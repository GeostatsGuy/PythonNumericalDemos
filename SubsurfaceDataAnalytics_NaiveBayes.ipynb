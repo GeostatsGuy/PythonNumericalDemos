{
 "cells": [
  {
   "cell_type": "markdown",
   "metadata": {
    "collapsed": true
   },
   "source": [
    "\n",
    "<p align=\"center\">\n",
    "    <img src=\"https://github.com/GeostatsGuy/GeostatsPy/blob/master/TCG_color_logo.png?raw=true\" width=\"220\" height=\"240\" />\n",
    "\n",
    "</p>\n",
    "\n",
    "## Subsurface Data Analytics \n",
    "\n",
    "### Naive Bayes Classification for Subsurface Data Analytics in Python \n",
    "\n",
    "\n",
    "#### Michael Pyrcz, Associate Professor, University of Texas at Austin \n",
    "\n",
    "##### [Twitter](https://twitter.com/geostatsguy) | [GitHub](https://github.com/GeostatsGuy) | [Website](http://michaelpyrcz.com) | [GoogleScholar](https://scholar.google.com/citations?user=QVZ20eQAAAAJ&hl=en&oi=ao) | [Book](https://www.amazon.com/Geostatistical-Reservoir-Modeling-Michael-Pyrcz/dp/0199731446) | [YouTube](https://www.youtube.com/channel/UCLqEr-xV-ceHdXXXrTId5ig)  | [LinkedIn](https://www.linkedin.com/in/michael-pyrcz-61a648a1)\n",
    "\n"
   ]
  },
  {
   "cell_type": "markdown",
   "metadata": {},
   "source": [
    "### PGE 383 Exercise: Naive Bayes Classification for Subsurface Data Analytics in Python \n",
    "\n",
    "Here's a simple workflow, demonstration of naive Bayes classification for subsurface modeling workflows. This should help you get started with building subsurface models that with predictions based on multiple sources of information.\n",
    "\n",
    "This method is great as it builds directly on our knowledge Bayesian statistics to provide a simple, but flexible classification method.\n",
    "\n",
    "#### Bayesian Updating\n",
    "\n",
    "The naive Bayes classifier is based on the conditional probability of a category, $k$, given $n$ features, $x_1, \\dots , x_n$.  \n",
    "\n",
    "\\begin{equation}\n",
    "p(C_k | x_1, \\dots , x_n)\n",
    "\\end{equation}\n",
    "\n",
    "we can solve this with Bayesian updating:\n",
    "\n",
    "\\begin{equation}\n",
    "p(C_k | x_1, \\dots , x_n) = \\frac{p(x_1, \\dots , x_n | C_k) p(C_k)}{p(x_1, \\dots , x_n)}\n",
    "\\end{equation}\n",
    "\n",
    "let's combine the likelihood and prior for the momment:\n",
    "\n",
    "\\begin{equation}\n",
    "p(x_1, \\dots , x_n | C_k) p(C_k) = p(x_1, \\dots , x_n, C_k)\n",
    "\\end{equation}\n",
    "\n",
    "we can exand the full joint distribution recursively as follows:\n",
    "\n",
    "\\begin{equation}\n",
    "p(x_1, \\dots , x_n, C_k)\n",
    "\\end{equation}\n",
    "\n",
    "expansion of the joint with the conditional and prior\n",
    "\n",
    "\\begin{equation}\n",
    "p(x_1 | x_2, \\dots , x_n, C_k) p(x_2, \\dots , x_n, C_k)\n",
    "\\end{equation}\n",
    "\n",
    "continue recursively expanding\n",
    "\n",
    "\\begin{equation}\n",
    "p(x_1 | x_2, \\dots , x_n, C_k) p(x_2 | x_3, \\dots , x_n, C_k) p(x_3, \\dots , x_n, C_k)\n",
    "\\end{equation}\n",
    "\n",
    "we can generalize as\n",
    "\n",
    "\\begin{equation}\n",
    "p(x_1 | x_2, \\dots , x_n, C_k) p(x_2 | x_3, \\dots , x_n, C_k) p(x_3 | x_4, \\dots , x_n, C_k) \\ldots (x_{n-1} | x_n, C_k)  (x_{n} | C_k) p(C_k)\n",
    "\\end{equation}\n",
    "\n",
    "#### Naive Bayes Approach\n",
    "\n",
    "The likelihood, conditional probability with the joint conditional is difficult to calculate.  It requires information about the joint relationship between $x_1, \\dots , x_n$ features. As $n$ increases this requires a lot of data to inform the joint distribution.\n",
    "\n",
    "With the naive bayes approach we make the 'naive' assumption that the features are all **conditionally independent**.  This entails:\n",
    "\n",
    "\\begin{equation}\n",
    "p(x_i | x_{i+1}, \\ldots , x_n, C_k) = p(x_i | C_k)\n",
    "\\end{equation}\n",
    "\n",
    "for all $i = 1, \\ldots, n$ features.\n",
    "\n",
    "We can now solve for the needed conditional probability as:\n",
    "\n",
    "\\begin{equation}\n",
    "p(C_k | x_1, \\dots , x_n) = \\frac{p(C_k) \\prod_{i=1}^{n} p(x_i | C_k)}{p(x_1, \\dots , x_n)}\n",
    "\\end{equation}\n",
    "\n",
    "We only need the prior, $p(C_k)$, and a set of conditionals, $p(x_i | C_k)$, for all predictor features, $i = 1,\\ldots,n$ and all categories, $k = 1,\\ldots,K$.\n",
    "\n",
    "The evidence term, $p(x_1, \\dots , x_n)$, is only based on the features $x_1, \\dots , x_n$; therefore, is a constant over the categories $k = 1,\\ldots,n$. \n",
    "\n",
    "* it ensures closure - probabilities over all categories sum to one \n",
    "\n",
    "* we simply standardize the numerators to sum to one over the categories.  \n",
    "\n",
    "The naive Bayes approach is:\n",
    "\n",
    "* simple to understand, builds on fundamental Bayesian statistics\n",
    "\n",
    "* pratical even with small datasets since with the conditional independence we only need to estimate simple conditional distributions \n",
    "\n",
    "#### Objective \n",
    "\n",
    "In the PGE 383: Stochastic Subsurface Modeling class I want to provide hands-on experience with building subsurface modeling workflows. Python provides an excellent vehicle to accomplish this. I have coded a package called GeostatsPy with GSLIB: Geostatistical Library (Deutsch and Journel, 1998) functionality that provides basic building blocks for building subsurface modeling workflows. \n",
    "\n",
    "The objective is to remove the hurdles of subsurface modeling workflow construction by providing building blocks and sufficient examples. This is not a coding class per se, but we need the ability to 'script' workflows working with numerical methods.    \n",
    "\n",
    "#### Getting Started\n",
    "\n",
    "Here's the steps to get setup in Python with the GeostatsPy package:\n",
    "\n",
    "1. Install Anaconda 3 on your machine (https://www.anaconda.com/download/). \n",
    "2. From Anaconda Navigator (within Anaconda3 group), go to the environment tab, click on base (root) green arrow and open a terminal. \n",
    "3. In the terminal type: pip install geostatspy. \n",
    "4. Open Jupyter and in the top block get started by copy and pasting the code block below from this Jupyter Notebook to start using the geostatspy functionality. \n",
    "\n",
    "You will need to copy the data file to your working directory.  They are available here:\n",
    "\n",
    "* Tabular data - [unconv_MV_v4.csv](https://git.io/fhHLT).\n",
    "\n",
    "There are exampled below with these functions. You can go here to see a list of the available functions, https://git.io/fh4eX, other example workflows and source code. \n",
    "\n",
    "#### Import Required Packages\n",
    "\n",
    "Let's import the GeostatsPy package.  I actually don't use it in this workflow, but just incase.  "
   ]
  },
  {
   "cell_type": "code",
   "execution_count": 1,
   "metadata": {},
   "outputs": [],
   "source": [
    "import geostatspy.GSLIB as GSLIB                            # GSLIB utilities, visualization and wrapper\n",
    "import geostatspy.geostats as geostats                      # GSLIB methods convert to Python        "
   ]
  },
  {
   "cell_type": "markdown",
   "metadata": {},
   "source": [
    "We will also need some standard packages. These should have been installed with Anaconda 3."
   ]
  },
  {
   "cell_type": "code",
   "execution_count": 2,
   "metadata": {},
   "outputs": [],
   "source": [
    "import numpy as np                                          # ndarrys for gridded data\n",
    "import pandas as pd                                         # DataFrames for tabular data\n",
    "import os                                                   # set working directory, run executables\n",
    "import matplotlib.pyplot as plt                             # for plotting\n",
    "from scipy import stats                                     # summary statistics\n",
    "import math                                                 # trig etc.\n",
    "from sklearn.model_selection import train_test_split        # train and test split\n",
    "from sklearn.naive_bayes import GaussianNB                  # naive Bayes model and prediction\n",
    "from sklearn import metrics                                 # measures to check our modelscmap\n",
    "cmap = plt.cm.inferno                                       # inferno color map!\n",
    "import warnings\n",
    "warnings.filterwarnings(\"ignore\")                           # suppress warnings"
   ]
  },
  {
   "cell_type": "markdown",
   "metadata": {},
   "source": [
    "If you get a package import error, you may have to first install some of these packages. This can usually be accomplished by opening up a command window on Windows and then typing 'python -m pip install [package-name]'. More assistance is available with the respective package docs.  \n",
    "\n",
    "#### Declare functions\n",
    "\n",
    "Let's define a couple of functions to streamline plotting correlation matrices and visualization of a decision tree regression model. "
   ]
  },
  {
   "cell_type": "code",
   "execution_count": 3,
   "metadata": {},
   "outputs": [],
   "source": [
    "def plot_corr(dataframe,size=10):                               # plots a graphical correlation matrix \n",
    "    corr = dataframe.corr()\n",
    "    fig, ax = plt.subplots(figsize=(size, size))\n",
    "    im = ax.matshow(corr,vmin = -1.0, vmax = 1.0,cmap=cmap)\n",
    "    plt.xticks(range(len(corr.columns)), corr.columns);\n",
    "    plt.yticks(range(len(corr.columns)), corr.columns);\n",
    "    plt.colorbar(im, orientation = 'vertical')\n",
    "    plt.title('Correlation Matrix')\n",
    "    \n",
    "def visualize_model(model,xfeature,x_min,x_max,yfeature,y_min,y_max,response,z_min,z_max,title,):# plots the data points and the decision tree prediction \n",
    "    cmap = plt.cm.plasma\n",
    "    xplot_step = (x_max - x_min)/300.0; yplot_step = (y_max - y_min)/300.0 # resolution of the model visualization\n",
    "    xx, yy = np.meshgrid(np.arange(x_min, x_max, xplot_step), # set up the mesh\n",
    "                     np.arange(y_min, y_max, yplot_step))\n",
    "    Z = model.predict(np.c_[xx.ravel(), yy.ravel()])      # predict with our trained model over the mesh\n",
    "    Z = Z.reshape(xx.shape)\n",
    "    cs = plt.contourf(xx, yy, Z, cmap=cmap,vmin=z_min, vmax=z_max, levels = 50) # plot the predictions\n",
    "    # add the data values as a colored by response feature scatter plot\n",
    "    im = plt.scatter(xfeature,yfeature,s=None, c=response, marker=None, cmap=cmap, norm=None, vmin=z_min, vmax=z_max, alpha=0.8, linewidths=0.3, edgecolors=\"black\")\n",
    "    plt.title(title)                                       # add the labels\n",
    "    plt.xlabel(xfeature.name); plt.ylabel(yfeature.name)\n",
    "    plt.xlim([x_min,x_max]); plt.ylim([y_min,y_max])\n",
    "    cbar = plt.colorbar(im, orientation = 'vertical')      # add the color bar\n",
    "    cbar.set_label(response.name, rotation=270, labelpad=20)\n",
    "    plt.subplots_adjust(left=0.0, bottom=0.0, right=1.0, top=1.2, wspace=0.2, hspace=0.2)\n",
    "    return(plt)\n",
    "    \n",
    "def visualize_model_prob(model,xfeature,x_min,x_max,yfeature,y_min,y_max,response,title,):# plots the data points and the prediction probabilities \n",
    "    n_classes = 10\n",
    "    cmap = plt.cm.inferno\n",
    "    xplot_step = (x_max - x_min)/300.0; yplot_step = (y_max - y_min)/300.0 # resolution of the model visualization\n",
    "    xx, yy = np.meshgrid(np.arange(x_min, x_max, xplot_step), # set up the mesh\n",
    "                     np.arange(y_min, y_max, yplot_step))\n",
    "    \n",
    "    z_min = 0.0; z_max = 1.0\n",
    "    Z = model.predict_proba(np.c_[xx.ravel(), yy.ravel()])\n",
    "    Z1 = Z[:,0].reshape(xx.shape); Z2 = Z[:,1].reshape(xx.shape)\n",
    "    \n",
    "    plt.subplot(121)\n",
    "    cs1 = plt.contourf(xx, yy, Z1, cmap=plt.cm.YlOrBr,vmin=z_min, vmax=z_max, levels=np.linspace(z_min, z_max, 100))\n",
    "    im = plt.scatter(xfeature,yfeature,s=None, c=response, marker=None, cmap=plt.cm.Greys, norm=None, vmin=z_min, vmax=z_max, alpha=0.8, linewidths=0.3, edgecolors=\"black\")\n",
    "    plt.title(title + ' Probability of Low Production')\n",
    "    plt.xlabel(xfeature.name)\n",
    "    plt.ylabel(yfeature.name)\n",
    "    cbar = plt.colorbar(cs1, orientation = 'vertical')\n",
    "    cbar.set_label('Probability', rotation=270, labelpad=20)\n",
    "    \n",
    "    plt.subplot(122)\n",
    "    cs2 = plt.contourf(xx, yy, Z2, cmap=plt.cm.YlOrBr,vmin=z_min, vmax=z_max, levels=np.linspace(z_min, z_max, 100))\n",
    "    im = plt.scatter(xfeature,yfeature,s=None, c=response, marker=None, cmap=plt.cm.Greys, norm=None, vmin=z_min, vmax=z_max, alpha=0.8, linewidths=0.3, edgecolors=\"black\")\n",
    "    plt.title(title + ' Probability of High Production')\n",
    "    plt.xlabel(xfeature.name)\n",
    "    plt.ylabel(yfeature.name)\n",
    "    cbar = plt.colorbar(cs2, orientation = 'vertical')\n",
    "    cbar.set_label('Probability', rotation=270, labelpad=20)\n",
    "    plt.subplots_adjust(left=0.0, bottom=0.0, right=2.0, top=1.0, wspace=0.2, hspace=0.2)\n",
    "    plt.show()\n",
    "       "
   ]
  },
  {
   "cell_type": "markdown",
   "metadata": {},
   "source": [
    "#### Set the working directory\n",
    "\n",
    "I always like to do this so I don't lose files and to simplify subsequent read and writes (avoid including the full address each time)."
   ]
  },
  {
   "cell_type": "code",
   "execution_count": 4,
   "metadata": {},
   "outputs": [],
   "source": [
    "#os.chdir(r\"C:\\Users\\pm27995\\Downloads\")                                       # set the working directory"
   ]
  },
  {
   "cell_type": "markdown",
   "metadata": {},
   "source": [
    "You will have to update the part in quotes with your own working directory and the format is different on a Mac (e.g. \"~/PGE\").  \n",
    "\n",
    "#### Read the data table\n",
    "\n",
    "First copy the \"unconv_MV.csv\" comma delimited file from https://github.com/GeostatsGuy/GeoDataSets to your working directory, then run this command to read the file into a DataFrame object (part of Pandas package).  "
   ]
  },
  {
   "cell_type": "code",
   "execution_count": 5,
   "metadata": {},
   "outputs": [],
   "source": [
    "#my_data = pd.read_csv(\"unconv_MV_v4.csv\")                   # load the comma delimited data file\n",
    "my_data = pd.read_csv(r\"https://raw.githubusercontent.com/GeostatsGuy/GeoDataSets/master/unconv_MV_v4.csv\") # load from Dr. Pyrcz's GitHub repo"
   ]
  },
  {
   "cell_type": "markdown",
   "metadata": {},
   "source": [
    "Let's visualize the first several rows of our data stored in a DataFrame so we can make sure we successfully loaded the data file."
   ]
  },
  {
   "cell_type": "code",
   "execution_count": 6,
   "metadata": {},
   "outputs": [
    {
     "data": {
      "text/html": [
       "<div>\n",
       "<style scoped>\n",
       "    .dataframe tbody tr th:only-of-type {\n",
       "        vertical-align: middle;\n",
       "    }\n",
       "\n",
       "    .dataframe tbody tr th {\n",
       "        vertical-align: top;\n",
       "    }\n",
       "\n",
       "    .dataframe thead th {\n",
       "        text-align: right;\n",
       "    }\n",
       "</style>\n",
       "<table border=\"1\" class=\"dataframe\">\n",
       "  <thead>\n",
       "    <tr style=\"text-align: right;\">\n",
       "      <th></th>\n",
       "      <th>Well</th>\n",
       "      <th>Por</th>\n",
       "      <th>Perm</th>\n",
       "      <th>AI</th>\n",
       "      <th>Brittle</th>\n",
       "      <th>TOC</th>\n",
       "      <th>VR</th>\n",
       "      <th>Prod</th>\n",
       "    </tr>\n",
       "  </thead>\n",
       "  <tbody>\n",
       "    <tr>\n",
       "      <th>0</th>\n",
       "      <td>1</td>\n",
       "      <td>12.08</td>\n",
       "      <td>2.92</td>\n",
       "      <td>2.80</td>\n",
       "      <td>81.40</td>\n",
       "      <td>1.16</td>\n",
       "      <td>2.31</td>\n",
       "      <td>1695.360819</td>\n",
       "    </tr>\n",
       "    <tr>\n",
       "      <th>1</th>\n",
       "      <td>2</td>\n",
       "      <td>12.38</td>\n",
       "      <td>3.53</td>\n",
       "      <td>3.22</td>\n",
       "      <td>46.17</td>\n",
       "      <td>0.89</td>\n",
       "      <td>1.88</td>\n",
       "      <td>3007.096063</td>\n",
       "    </tr>\n",
       "    <tr>\n",
       "      <th>2</th>\n",
       "      <td>3</td>\n",
       "      <td>14.02</td>\n",
       "      <td>2.59</td>\n",
       "      <td>4.01</td>\n",
       "      <td>72.80</td>\n",
       "      <td>0.89</td>\n",
       "      <td>2.72</td>\n",
       "      <td>2531.938259</td>\n",
       "    </tr>\n",
       "    <tr>\n",
       "      <th>3</th>\n",
       "      <td>4</td>\n",
       "      <td>17.67</td>\n",
       "      <td>6.75</td>\n",
       "      <td>2.63</td>\n",
       "      <td>39.81</td>\n",
       "      <td>1.08</td>\n",
       "      <td>1.88</td>\n",
       "      <td>5288.514854</td>\n",
       "    </tr>\n",
       "    <tr>\n",
       "      <th>4</th>\n",
       "      <td>5</td>\n",
       "      <td>17.52</td>\n",
       "      <td>4.57</td>\n",
       "      <td>3.18</td>\n",
       "      <td>10.94</td>\n",
       "      <td>1.51</td>\n",
       "      <td>1.90</td>\n",
       "      <td>2859.469624</td>\n",
       "    </tr>\n",
       "    <tr>\n",
       "      <th>5</th>\n",
       "      <td>6</td>\n",
       "      <td>14.53</td>\n",
       "      <td>4.81</td>\n",
       "      <td>2.69</td>\n",
       "      <td>53.60</td>\n",
       "      <td>0.94</td>\n",
       "      <td>1.67</td>\n",
       "      <td>4017.374438</td>\n",
       "    </tr>\n",
       "    <tr>\n",
       "      <th>6</th>\n",
       "      <td>7</td>\n",
       "      <td>13.49</td>\n",
       "      <td>3.60</td>\n",
       "      <td>2.93</td>\n",
       "      <td>63.71</td>\n",
       "      <td>0.80</td>\n",
       "      <td>1.85</td>\n",
       "      <td>2952.812773</td>\n",
       "    </tr>\n",
       "    <tr>\n",
       "      <th>7</th>\n",
       "      <td>8</td>\n",
       "      <td>11.58</td>\n",
       "      <td>3.03</td>\n",
       "      <td>3.25</td>\n",
       "      <td>53.00</td>\n",
       "      <td>0.69</td>\n",
       "      <td>1.93</td>\n",
       "      <td>2670.933846</td>\n",
       "    </tr>\n",
       "    <tr>\n",
       "      <th>8</th>\n",
       "      <td>9</td>\n",
       "      <td>12.52</td>\n",
       "      <td>2.72</td>\n",
       "      <td>2.43</td>\n",
       "      <td>65.77</td>\n",
       "      <td>0.95</td>\n",
       "      <td>1.98</td>\n",
       "      <td>2474.048178</td>\n",
       "    </tr>\n",
       "    <tr>\n",
       "      <th>9</th>\n",
       "      <td>10</td>\n",
       "      <td>13.25</td>\n",
       "      <td>3.94</td>\n",
       "      <td>3.71</td>\n",
       "      <td>66.20</td>\n",
       "      <td>1.14</td>\n",
       "      <td>2.65</td>\n",
       "      <td>2722.893266</td>\n",
       "    </tr>\n",
       "    <tr>\n",
       "      <th>10</th>\n",
       "      <td>11</td>\n",
       "      <td>15.04</td>\n",
       "      <td>4.39</td>\n",
       "      <td>2.22</td>\n",
       "      <td>61.11</td>\n",
       "      <td>1.08</td>\n",
       "      <td>1.77</td>\n",
       "      <td>3828.247174</td>\n",
       "    </tr>\n",
       "    <tr>\n",
       "      <th>11</th>\n",
       "      <td>12</td>\n",
       "      <td>16.19</td>\n",
       "      <td>6.30</td>\n",
       "      <td>2.29</td>\n",
       "      <td>49.10</td>\n",
       "      <td>1.53</td>\n",
       "      <td>1.86</td>\n",
       "      <td>5095.810104</td>\n",
       "    </tr>\n",
       "    <tr>\n",
       "      <th>12</th>\n",
       "      <td>13</td>\n",
       "      <td>16.82</td>\n",
       "      <td>5.42</td>\n",
       "      <td>2.80</td>\n",
       "      <td>66.65</td>\n",
       "      <td>1.17</td>\n",
       "      <td>1.98</td>\n",
       "      <td>4091.637316</td>\n",
       "    </tr>\n",
       "  </tbody>\n",
       "</table>\n",
       "</div>"
      ],
      "text/plain": [
       "    Well    Por  Perm    AI  Brittle   TOC    VR         Prod\n",
       "0      1  12.08  2.92  2.80    81.40  1.16  2.31  1695.360819\n",
       "1      2  12.38  3.53  3.22    46.17  0.89  1.88  3007.096063\n",
       "2      3  14.02  2.59  4.01    72.80  0.89  2.72  2531.938259\n",
       "3      4  17.67  6.75  2.63    39.81  1.08  1.88  5288.514854\n",
       "4      5  17.52  4.57  3.18    10.94  1.51  1.90  2859.469624\n",
       "5      6  14.53  4.81  2.69    53.60  0.94  1.67  4017.374438\n",
       "6      7  13.49  3.60  2.93    63.71  0.80  1.85  2952.812773\n",
       "7      8  11.58  3.03  3.25    53.00  0.69  1.93  2670.933846\n",
       "8      9  12.52  2.72  2.43    65.77  0.95  1.98  2474.048178\n",
       "9     10  13.25  3.94  3.71    66.20  1.14  2.65  2722.893266\n",
       "10    11  15.04  4.39  2.22    61.11  1.08  1.77  3828.247174\n",
       "11    12  16.19  6.30  2.29    49.10  1.53  1.86  5095.810104\n",
       "12    13  16.82  5.42  2.80    66.65  1.17  1.98  4091.637316"
      ]
     },
     "execution_count": 6,
     "metadata": {},
     "output_type": "execute_result"
    }
   ],
   "source": [
    "my_data.head(n=13)                                          # preview the first n rows of the DataFrame"
   ]
  },
  {
   "cell_type": "markdown",
   "metadata": {},
   "source": [
    "Let's remove the well index and check the summary summary statistics."
   ]
  },
  {
   "cell_type": "code",
   "execution_count": 7,
   "metadata": {},
   "outputs": [
    {
     "data": {
      "text/html": [
       "<div>\n",
       "<style scoped>\n",
       "    .dataframe tbody tr th:only-of-type {\n",
       "        vertical-align: middle;\n",
       "    }\n",
       "\n",
       "    .dataframe tbody tr th {\n",
       "        vertical-align: top;\n",
       "    }\n",
       "\n",
       "    .dataframe thead th {\n",
       "        text-align: right;\n",
       "    }\n",
       "</style>\n",
       "<table border=\"1\" class=\"dataframe\">\n",
       "  <thead>\n",
       "    <tr style=\"text-align: right;\">\n",
       "      <th></th>\n",
       "      <th>count</th>\n",
       "      <th>mean</th>\n",
       "      <th>std</th>\n",
       "      <th>min</th>\n",
       "      <th>25%</th>\n",
       "      <th>50%</th>\n",
       "      <th>75%</th>\n",
       "      <th>max</th>\n",
       "    </tr>\n",
       "  </thead>\n",
       "  <tbody>\n",
       "    <tr>\n",
       "      <th>Por</th>\n",
       "      <td>200.0</td>\n",
       "      <td>14.991150</td>\n",
       "      <td>2.971176</td>\n",
       "      <td>6.550000</td>\n",
       "      <td>12.912500</td>\n",
       "      <td>15.070000</td>\n",
       "      <td>17.402500</td>\n",
       "      <td>23.550000</td>\n",
       "    </tr>\n",
       "    <tr>\n",
       "      <th>Perm</th>\n",
       "      <td>200.0</td>\n",
       "      <td>4.330750</td>\n",
       "      <td>1.731014</td>\n",
       "      <td>1.130000</td>\n",
       "      <td>3.122500</td>\n",
       "      <td>4.035000</td>\n",
       "      <td>5.287500</td>\n",
       "      <td>9.870000</td>\n",
       "    </tr>\n",
       "    <tr>\n",
       "      <th>AI</th>\n",
       "      <td>200.0</td>\n",
       "      <td>2.968850</td>\n",
       "      <td>0.566885</td>\n",
       "      <td>1.280000</td>\n",
       "      <td>2.547500</td>\n",
       "      <td>2.955000</td>\n",
       "      <td>3.345000</td>\n",
       "      <td>4.630000</td>\n",
       "    </tr>\n",
       "    <tr>\n",
       "      <th>Brittle</th>\n",
       "      <td>200.0</td>\n",
       "      <td>48.161950</td>\n",
       "      <td>14.129455</td>\n",
       "      <td>10.940000</td>\n",
       "      <td>37.755000</td>\n",
       "      <td>49.510000</td>\n",
       "      <td>58.262500</td>\n",
       "      <td>84.330000</td>\n",
       "    </tr>\n",
       "    <tr>\n",
       "      <th>TOC</th>\n",
       "      <td>200.0</td>\n",
       "      <td>0.990450</td>\n",
       "      <td>0.481588</td>\n",
       "      <td>-0.190000</td>\n",
       "      <td>0.617500</td>\n",
       "      <td>1.030000</td>\n",
       "      <td>1.350000</td>\n",
       "      <td>2.180000</td>\n",
       "    </tr>\n",
       "    <tr>\n",
       "      <th>VR</th>\n",
       "      <td>200.0</td>\n",
       "      <td>1.964300</td>\n",
       "      <td>0.300827</td>\n",
       "      <td>0.930000</td>\n",
       "      <td>1.770000</td>\n",
       "      <td>1.960000</td>\n",
       "      <td>2.142500</td>\n",
       "      <td>2.870000</td>\n",
       "    </tr>\n",
       "    <tr>\n",
       "      <th>Prod</th>\n",
       "      <td>200.0</td>\n",
       "      <td>3864.407081</td>\n",
       "      <td>1553.277558</td>\n",
       "      <td>839.822063</td>\n",
       "      <td>2686.227611</td>\n",
       "      <td>3604.303506</td>\n",
       "      <td>4752.637555</td>\n",
       "      <td>8590.384044</td>\n",
       "    </tr>\n",
       "  </tbody>\n",
       "</table>\n",
       "</div>"
      ],
      "text/plain": [
       "         count         mean          std         min          25%  \\\n",
       "Por      200.0    14.991150     2.971176    6.550000    12.912500   \n",
       "Perm     200.0     4.330750     1.731014    1.130000     3.122500   \n",
       "AI       200.0     2.968850     0.566885    1.280000     2.547500   \n",
       "Brittle  200.0    48.161950    14.129455   10.940000    37.755000   \n",
       "TOC      200.0     0.990450     0.481588   -0.190000     0.617500   \n",
       "VR       200.0     1.964300     0.300827    0.930000     1.770000   \n",
       "Prod     200.0  3864.407081  1553.277558  839.822063  2686.227611   \n",
       "\n",
       "                 50%          75%          max  \n",
       "Por        15.070000    17.402500    23.550000  \n",
       "Perm        4.035000     5.287500     9.870000  \n",
       "AI          2.955000     3.345000     4.630000  \n",
       "Brittle    49.510000    58.262500    84.330000  \n",
       "TOC         1.030000     1.350000     2.180000  \n",
       "VR          1.960000     2.142500     2.870000  \n",
       "Prod     3604.303506  4752.637555  8590.384044  "
      ]
     },
     "execution_count": 7,
     "metadata": {},
     "output_type": "execute_result"
    }
   ],
   "source": [
    "my_data = my_data.iloc[:,1:]                                # remove the well index\n",
    "my_data.describe().transpose()                              # calculate summary statistics for the data"
   ]
  },
  {
   "cell_type": "markdown",
   "metadata": {},
   "source": [
    "It is good that we checked the summary statistics, because we have some negative values for brittleness and total organic carbon. The is physically imposible.  The values must be in error. We know the lowest possible values are 0.0, so we will truncate on 0.0.  We use the *get_numerical_data()* DataFrame member function to get a shallow copy of the data from the DataFrame.  Since it is a shallow copy, any changes we make to the copy are made to the data in the original DataFrame.  This allows us to apply this simple conditional statement to all the data values in the DataFrame all at once.\n",
    "\n",
    "Let's also make a categorical variable for production, based on a threshold of 4,000 MCFPD.\n",
    "\n",
    "* high production > 4,000 MCFPD, cprod = 1\n",
    "* low production <= 4,000 MCFPD, cprod = 0"
   ]
  },
  {
   "cell_type": "code",
   "execution_count": 8,
   "metadata": {},
   "outputs": [
    {
     "data": {
      "text/html": [
       "<div>\n",
       "<style scoped>\n",
       "    .dataframe tbody tr th:only-of-type {\n",
       "        vertical-align: middle;\n",
       "    }\n",
       "\n",
       "    .dataframe tbody tr th {\n",
       "        vertical-align: top;\n",
       "    }\n",
       "\n",
       "    .dataframe thead th {\n",
       "        text-align: right;\n",
       "    }\n",
       "</style>\n",
       "<table border=\"1\" class=\"dataframe\">\n",
       "  <thead>\n",
       "    <tr style=\"text-align: right;\">\n",
       "      <th></th>\n",
       "      <th>count</th>\n",
       "      <th>mean</th>\n",
       "      <th>std</th>\n",
       "      <th>min</th>\n",
       "      <th>25%</th>\n",
       "      <th>50%</th>\n",
       "      <th>75%</th>\n",
       "      <th>max</th>\n",
       "    </tr>\n",
       "  </thead>\n",
       "  <tbody>\n",
       "    <tr>\n",
       "      <th>Por</th>\n",
       "      <td>200.0</td>\n",
       "      <td>14.991150</td>\n",
       "      <td>2.971176</td>\n",
       "      <td>6.550000</td>\n",
       "      <td>12.912500</td>\n",
       "      <td>15.070000</td>\n",
       "      <td>17.402500</td>\n",
       "      <td>23.550000</td>\n",
       "    </tr>\n",
       "    <tr>\n",
       "      <th>Perm</th>\n",
       "      <td>200.0</td>\n",
       "      <td>4.330750</td>\n",
       "      <td>1.731014</td>\n",
       "      <td>1.130000</td>\n",
       "      <td>3.122500</td>\n",
       "      <td>4.035000</td>\n",
       "      <td>5.287500</td>\n",
       "      <td>9.870000</td>\n",
       "    </tr>\n",
       "    <tr>\n",
       "      <th>AI</th>\n",
       "      <td>200.0</td>\n",
       "      <td>2.968850</td>\n",
       "      <td>0.566885</td>\n",
       "      <td>1.280000</td>\n",
       "      <td>2.547500</td>\n",
       "      <td>2.955000</td>\n",
       "      <td>3.345000</td>\n",
       "      <td>4.630000</td>\n",
       "    </tr>\n",
       "    <tr>\n",
       "      <th>Brittle</th>\n",
       "      <td>200.0</td>\n",
       "      <td>48.161950</td>\n",
       "      <td>14.129455</td>\n",
       "      <td>10.940000</td>\n",
       "      <td>37.755000</td>\n",
       "      <td>49.510000</td>\n",
       "      <td>58.262500</td>\n",
       "      <td>84.330000</td>\n",
       "    </tr>\n",
       "    <tr>\n",
       "      <th>TOC</th>\n",
       "      <td>200.0</td>\n",
       "      <td>0.991950</td>\n",
       "      <td>0.478264</td>\n",
       "      <td>0.000000</td>\n",
       "      <td>0.617500</td>\n",
       "      <td>1.030000</td>\n",
       "      <td>1.350000</td>\n",
       "      <td>2.180000</td>\n",
       "    </tr>\n",
       "    <tr>\n",
       "      <th>VR</th>\n",
       "      <td>200.0</td>\n",
       "      <td>1.964300</td>\n",
       "      <td>0.300827</td>\n",
       "      <td>0.930000</td>\n",
       "      <td>1.770000</td>\n",
       "      <td>1.960000</td>\n",
       "      <td>2.142500</td>\n",
       "      <td>2.870000</td>\n",
       "    </tr>\n",
       "    <tr>\n",
       "      <th>Prod</th>\n",
       "      <td>200.0</td>\n",
       "      <td>3864.407081</td>\n",
       "      <td>1553.277558</td>\n",
       "      <td>839.822063</td>\n",
       "      <td>2686.227611</td>\n",
       "      <td>3604.303506</td>\n",
       "      <td>4752.637555</td>\n",
       "      <td>8590.384044</td>\n",
       "    </tr>\n",
       "    <tr>\n",
       "      <th>cProd</th>\n",
       "      <td>200.0</td>\n",
       "      <td>0.435000</td>\n",
       "      <td>0.497001</td>\n",
       "      <td>0.000000</td>\n",
       "      <td>0.000000</td>\n",
       "      <td>0.000000</td>\n",
       "      <td>1.000000</td>\n",
       "      <td>1.000000</td>\n",
       "    </tr>\n",
       "  </tbody>\n",
       "</table>\n",
       "</div>"
      ],
      "text/plain": [
       "         count         mean          std         min          25%  \\\n",
       "Por      200.0    14.991150     2.971176    6.550000    12.912500   \n",
       "Perm     200.0     4.330750     1.731014    1.130000     3.122500   \n",
       "AI       200.0     2.968850     0.566885    1.280000     2.547500   \n",
       "Brittle  200.0    48.161950    14.129455   10.940000    37.755000   \n",
       "TOC      200.0     0.991950     0.478264    0.000000     0.617500   \n",
       "VR       200.0     1.964300     0.300827    0.930000     1.770000   \n",
       "Prod     200.0  3864.407081  1553.277558  839.822063  2686.227611   \n",
       "cProd    200.0     0.435000     0.497001    0.000000     0.000000   \n",
       "\n",
       "                 50%          75%          max  \n",
       "Por        15.070000    17.402500    23.550000  \n",
       "Perm        4.035000     5.287500     9.870000  \n",
       "AI          2.955000     3.345000     4.630000  \n",
       "Brittle    49.510000    58.262500    84.330000  \n",
       "TOC         1.030000     1.350000     2.180000  \n",
       "VR          1.960000     2.142500     2.870000  \n",
       "Prod     3604.303506  4752.637555  8590.384044  \n",
       "cProd       0.000000     1.000000     1.000000  "
      ]
     },
     "execution_count": 8,
     "metadata": {},
     "output_type": "execute_result"
    }
   ],
   "source": [
    "num = my_data._get_numeric_data()                           # get shallow copy of the numerical values from the DataFrame\n",
    "num[num < 0] = 0                                            # truncate negative values to 0.0\n",
    "my_data['cProd'] = np.where(my_data['Prod']>=4000, 1, 0)    # conditional statement assign a new feature\n",
    "my_data.describe().transpose()                              # calculate summary statistics for the data"
   ]
  },
  {
   "cell_type": "markdown",
   "metadata": {},
   "source": [
    "Let's make sure that we have the new categorical feature for production."
   ]
  },
  {
   "cell_type": "code",
   "execution_count": 9,
   "metadata": {},
   "outputs": [
    {
     "data": {
      "text/html": [
       "<div>\n",
       "<style scoped>\n",
       "    .dataframe tbody tr th:only-of-type {\n",
       "        vertical-align: middle;\n",
       "    }\n",
       "\n",
       "    .dataframe tbody tr th {\n",
       "        vertical-align: top;\n",
       "    }\n",
       "\n",
       "    .dataframe thead th {\n",
       "        text-align: right;\n",
       "    }\n",
       "</style>\n",
       "<table border=\"1\" class=\"dataframe\">\n",
       "  <thead>\n",
       "    <tr style=\"text-align: right;\">\n",
       "      <th></th>\n",
       "      <th>Por</th>\n",
       "      <th>Perm</th>\n",
       "      <th>AI</th>\n",
       "      <th>Brittle</th>\n",
       "      <th>TOC</th>\n",
       "      <th>VR</th>\n",
       "      <th>Prod</th>\n",
       "      <th>cProd</th>\n",
       "    </tr>\n",
       "  </thead>\n",
       "  <tbody>\n",
       "    <tr>\n",
       "      <th>0</th>\n",
       "      <td>12.08</td>\n",
       "      <td>2.92</td>\n",
       "      <td>2.80</td>\n",
       "      <td>81.40</td>\n",
       "      <td>1.16</td>\n",
       "      <td>2.31</td>\n",
       "      <td>1695.360819</td>\n",
       "      <td>0</td>\n",
       "    </tr>\n",
       "    <tr>\n",
       "      <th>1</th>\n",
       "      <td>12.38</td>\n",
       "      <td>3.53</td>\n",
       "      <td>3.22</td>\n",
       "      <td>46.17</td>\n",
       "      <td>0.89</td>\n",
       "      <td>1.88</td>\n",
       "      <td>3007.096063</td>\n",
       "      <td>0</td>\n",
       "    </tr>\n",
       "    <tr>\n",
       "      <th>2</th>\n",
       "      <td>14.02</td>\n",
       "      <td>2.59</td>\n",
       "      <td>4.01</td>\n",
       "      <td>72.80</td>\n",
       "      <td>0.89</td>\n",
       "      <td>2.72</td>\n",
       "      <td>2531.938259</td>\n",
       "      <td>0</td>\n",
       "    </tr>\n",
       "    <tr>\n",
       "      <th>3</th>\n",
       "      <td>17.67</td>\n",
       "      <td>6.75</td>\n",
       "      <td>2.63</td>\n",
       "      <td>39.81</td>\n",
       "      <td>1.08</td>\n",
       "      <td>1.88</td>\n",
       "      <td>5288.514854</td>\n",
       "      <td>1</td>\n",
       "    </tr>\n",
       "    <tr>\n",
       "      <th>4</th>\n",
       "      <td>17.52</td>\n",
       "      <td>4.57</td>\n",
       "      <td>3.18</td>\n",
       "      <td>10.94</td>\n",
       "      <td>1.51</td>\n",
       "      <td>1.90</td>\n",
       "      <td>2859.469624</td>\n",
       "      <td>0</td>\n",
       "    </tr>\n",
       "  </tbody>\n",
       "</table>\n",
       "</div>"
      ],
      "text/plain": [
       "     Por  Perm    AI  Brittle   TOC    VR         Prod  cProd\n",
       "0  12.08  2.92  2.80    81.40  1.16  2.31  1695.360819      0\n",
       "1  12.38  3.53  3.22    46.17  0.89  1.88  3007.096063      0\n",
       "2  14.02  2.59  4.01    72.80  0.89  2.72  2531.938259      0\n",
       "3  17.67  6.75  2.63    39.81  1.08  1.88  5288.514854      1\n",
       "4  17.52  4.57  3.18    10.94  1.51  1.90  2859.469624      0"
      ]
     },
     "execution_count": 9,
     "metadata": {},
     "output_type": "execute_result"
    }
   ],
   "source": [
    "my_data.head()                                              # preview the first n rows of the updated DataFrame"
   ]
  },
  {
   "cell_type": "markdown",
   "metadata": {},
   "source": [
    "This dataset has variables from 200 unconventional wells including well average porosity, log transform of permeability (to linearize the relationships with other variables), accoustic impedance (kg/m2s*10^6), brittness ratio (%), total organic carbon (%), vitrinite reflectance (%), and initial production 90 day average (MCFPD).  Note, the dataset is synthetic.\n",
    "\n",
    "#### Calculate the correlation matrix \n",
    "\n",
    "For multivariate analysis it is a good idea to check the correlation matrix.  We can calculate it and view it in the console with these commands."
   ]
  },
  {
   "cell_type": "code",
   "execution_count": 10,
   "metadata": {},
   "outputs": [
    {
     "name": "stdout",
     "output_type": "stream",
     "text": [
      "[[ 1.    0.76 -0.46 -0.22  0.71  0.11  0.88]\n",
      " [ 0.76  1.   -0.24 -0.12  0.47  0.05  0.71]\n",
      " [-0.46 -0.24  1.    0.13 -0.53  0.5  -0.37]\n",
      " [-0.22 -0.12  0.13  1.   -0.21  0.32 -0.02]\n",
      " [ 0.71  0.47 -0.53 -0.21  1.    0.3   0.64]\n",
      " [ 0.11  0.05  0.5   0.32  0.3   1.    0.23]\n",
      " [ 0.88  0.71 -0.37 -0.02  0.64  0.23  1.  ]]\n"
     ]
    }
   ],
   "source": [
    "corr_matrix = np.corrcoef(my_data.iloc[:,:7], rowvar = False)  # correlation matrix without the categorical value\n",
    "print(np.around(corr_matrix,2))                           # print the correlation matrix to 2 decimals"
   ]
  },
  {
   "cell_type": "markdown",
   "metadata": {},
   "source": [
    "Note the 1.0 diagonal resulting from the correlation of each variable with themselves.  \n",
    "\n",
    "Let's use our function declared above to make a graphical correlation matrix visualization.  This may inprove our ability to spot features.  It relies on the built in correlation matrix method with Numpy DataFrames and MatPlotLib for plotting."
   ]
  },
  {
   "cell_type": "code",
   "execution_count": 11,
   "metadata": {},
   "outputs": [
    {
     "data": {
      "image/png": "[encoded data removed]",
      "text/plain": [
       "<Figure size 720x720 with 2 Axes>"
      ]
     },
     "metadata": {
      "needs_background": "light"
     },
     "output_type": "display_data"
    }
   ],
   "source": [
    "plot_corr(my_data.iloc[:,:7],10)                            # using our correlation matrix visualization function\n",
    "plt.show()"
   ]
  },
  {
   "cell_type": "markdown",
   "metadata": {},
   "source": [
    "#### Working with Only Two Features\n",
    "\n",
    "Let's simplify the problem to 2 feature), Porosity and Brittleness to predict Production rate.  By working with only 2 features, it is very easy to visualize the segmentation of the feature space (it is only 2D and can be shown compleltely on a single plot)."
   ]
  },
  {
   "cell_type": "code",
   "execution_count": 12,
   "metadata": {},
   "outputs": [],
   "source": [
    "my_data_subset = my_data.iloc[:,[0,3,7]]                # extract just por, brittle and prod with 100 samples\n",
    "X_train, X_test, y_train, y_test = train_test_split(my_data_subset.iloc[:,[0,1]], my_data_subset.iloc[:,2], test_size=0.25, random_state=73073)\n",
    "y_train = pd.DataFrame({'cprod':y_train.values})\n",
    "y_test = pd.DataFrame({'cprod':y_test.values})"
   ]
  },
  {
   "cell_type": "markdown",
   "metadata": {},
   "source": [
    "#### Set the Min and Max for Plotting \n",
    "\n",
    "x1 and x2 are the predictor features\n",
    "\n",
    "* x1 on x axis and x2 on the y axis for the plots below\n",
    "\n",
    "y is the response feature\n",
    "\n",
    "* used for the color bar"
   ]
  },
  {
   "cell_type": "code",
   "execution_count": 13,
   "metadata": {},
   "outputs": [],
   "source": [
    "x1min = 5.0; x1max = 25.0\n",
    "x2min = 0.0; x2max = 100.0\n",
    "ymin = 0.0; ymax = 9000.0"
   ]
  },
  {
   "cell_type": "markdown",
   "metadata": {},
   "source": [
    "Let's first check the univariate statistics of Porosity, Brittleness and Producton."
   ]
  },
  {
   "cell_type": "code",
   "execution_count": 14,
   "metadata": {},
   "outputs": [
    {
     "data": {
      "text/html": [
       "<div>\n",
       "<style scoped>\n",
       "    .dataframe tbody tr th:only-of-type {\n",
       "        vertical-align: middle;\n",
       "    }\n",
       "\n",
       "    .dataframe tbody tr th {\n",
       "        vertical-align: top;\n",
       "    }\n",
       "\n",
       "    .dataframe thead th {\n",
       "        text-align: right;\n",
       "    }\n",
       "</style>\n",
       "<table border=\"1\" class=\"dataframe\">\n",
       "  <thead>\n",
       "    <tr style=\"text-align: right;\">\n",
       "      <th></th>\n",
       "      <th>count</th>\n",
       "      <th>mean</th>\n",
       "      <th>std</th>\n",
       "      <th>min</th>\n",
       "      <th>25%</th>\n",
       "      <th>50%</th>\n",
       "      <th>75%</th>\n",
       "      <th>max</th>\n",
       "    </tr>\n",
       "  </thead>\n",
       "  <tbody>\n",
       "    <tr>\n",
       "      <th>Por</th>\n",
       "      <td>150.0</td>\n",
       "      <td>15.005267</td>\n",
       "      <td>2.971274</td>\n",
       "      <td>6.55</td>\n",
       "      <td>12.8975</td>\n",
       "      <td>15.055</td>\n",
       "      <td>17.500</td>\n",
       "      <td>23.55</td>\n",
       "    </tr>\n",
       "    <tr>\n",
       "      <th>Brittle</th>\n",
       "      <td>150.0</td>\n",
       "      <td>47.857067</td>\n",
       "      <td>13.886701</td>\n",
       "      <td>10.94</td>\n",
       "      <td>37.8400</td>\n",
       "      <td>49.150</td>\n",
       "      <td>57.985</td>\n",
       "      <td>81.40</td>\n",
       "    </tr>\n",
       "  </tbody>\n",
       "</table>\n",
       "</div>"
      ],
      "text/plain": [
       "         count       mean        std    min      25%     50%     75%    max\n",
       "Por      150.0  15.005267   2.971274   6.55  12.8975  15.055  17.500  23.55\n",
       "Brittle  150.0  47.857067  13.886701  10.94  37.8400  49.150  57.985  81.40"
      ]
     },
     "execution_count": 14,
     "metadata": {},
     "output_type": "execute_result"
    }
   ],
   "source": [
    "X_train.describe().transpose()                         # calculate summary statistics for the data"
   ]
  },
  {
   "cell_type": "code",
   "execution_count": 15,
   "metadata": {},
   "outputs": [
    {
     "data": {
      "text/html": [
       "<div>\n",
       "<style scoped>\n",
       "    .dataframe tbody tr th:only-of-type {\n",
       "        vertical-align: middle;\n",
       "    }\n",
       "\n",
       "    .dataframe tbody tr th {\n",
       "        vertical-align: top;\n",
       "    }\n",
       "\n",
       "    .dataframe thead th {\n",
       "        text-align: right;\n",
       "    }\n",
       "</style>\n",
       "<table border=\"1\" class=\"dataframe\">\n",
       "  <thead>\n",
       "    <tr style=\"text-align: right;\">\n",
       "      <th></th>\n",
       "      <th>count</th>\n",
       "      <th>mean</th>\n",
       "      <th>std</th>\n",
       "      <th>min</th>\n",
       "      <th>25%</th>\n",
       "      <th>50%</th>\n",
       "      <th>75%</th>\n",
       "      <th>max</th>\n",
       "    </tr>\n",
       "  </thead>\n",
       "  <tbody>\n",
       "    <tr>\n",
       "      <th>Por</th>\n",
       "      <td>50.0</td>\n",
       "      <td>14.9488</td>\n",
       "      <td>3.00064</td>\n",
       "      <td>7.38</td>\n",
       "      <td>13.3525</td>\n",
       "      <td>15.195</td>\n",
       "      <td>16.9325</td>\n",
       "      <td>20.96</td>\n",
       "    </tr>\n",
       "    <tr>\n",
       "      <th>Brittle</th>\n",
       "      <td>50.0</td>\n",
       "      <td>49.0766</td>\n",
       "      <td>14.94183</td>\n",
       "      <td>15.68</td>\n",
       "      <td>37.3550</td>\n",
       "      <td>52.545</td>\n",
       "      <td>60.0575</td>\n",
       "      <td>84.33</td>\n",
       "    </tr>\n",
       "  </tbody>\n",
       "</table>\n",
       "</div>"
      ],
      "text/plain": [
       "         count     mean       std    min      25%     50%      75%    max\n",
       "Por       50.0  14.9488   3.00064   7.38  13.3525  15.195  16.9325  20.96\n",
       "Brittle   50.0  49.0766  14.94183  15.68  37.3550  52.545  60.0575  84.33"
      ]
     },
     "execution_count": 15,
     "metadata": {},
     "output_type": "execute_result"
    }
   ],
   "source": [
    "X_test.describe().transpose()                         # calculate summary statistics for the data"
   ]
  },
  {
   "cell_type": "code",
   "execution_count": 16,
   "metadata": {},
   "outputs": [
    {
     "data": {
      "text/html": [
       "<div>\n",
       "<style scoped>\n",
       "    .dataframe tbody tr th:only-of-type {\n",
       "        vertical-align: middle;\n",
       "    }\n",
       "\n",
       "    .dataframe tbody tr th {\n",
       "        vertical-align: top;\n",
       "    }\n",
       "\n",
       "    .dataframe thead th {\n",
       "        text-align: right;\n",
       "    }\n",
       "</style>\n",
       "<table border=\"1\" class=\"dataframe\">\n",
       "  <thead>\n",
       "    <tr style=\"text-align: right;\">\n",
       "      <th></th>\n",
       "      <th>cprod</th>\n",
       "    </tr>\n",
       "  </thead>\n",
       "  <tbody>\n",
       "    <tr>\n",
       "      <th>count</th>\n",
       "      <td>150.000000</td>\n",
       "    </tr>\n",
       "    <tr>\n",
       "      <th>mean</th>\n",
       "      <td>0.433333</td>\n",
       "    </tr>\n",
       "  </tbody>\n",
       "</table>\n",
       "</div>"
      ],
      "text/plain": [
       "            cprod\n",
       "count  150.000000\n",
       "mean     0.433333"
      ]
     },
     "execution_count": 16,
     "metadata": {},
     "output_type": "execute_result"
    }
   ],
   "source": [
    "y_train.describe()[:2]                                    # calculate summary statistics for the data"
   ]
  },
  {
   "cell_type": "code",
   "execution_count": 17,
   "metadata": {},
   "outputs": [
    {
     "data": {
      "text/html": [
       "<div>\n",
       "<style scoped>\n",
       "    .dataframe tbody tr th:only-of-type {\n",
       "        vertical-align: middle;\n",
       "    }\n",
       "\n",
       "    .dataframe tbody tr th {\n",
       "        vertical-align: top;\n",
       "    }\n",
       "\n",
       "    .dataframe thead th {\n",
       "        text-align: right;\n",
       "    }\n",
       "</style>\n",
       "<table border=\"1\" class=\"dataframe\">\n",
       "  <thead>\n",
       "    <tr style=\"text-align: right;\">\n",
       "      <th></th>\n",
       "      <th>cprod</th>\n",
       "    </tr>\n",
       "  </thead>\n",
       "  <tbody>\n",
       "    <tr>\n",
       "      <th>count</th>\n",
       "      <td>50.00</td>\n",
       "    </tr>\n",
       "    <tr>\n",
       "      <th>mean</th>\n",
       "      <td>0.44</td>\n",
       "    </tr>\n",
       "  </tbody>\n",
       "</table>\n",
       "</div>"
      ],
      "text/plain": [
       "       cprod\n",
       "count  50.00\n",
       "mean    0.44"
      ]
     },
     "execution_count": 17,
     "metadata": {},
     "output_type": "execute_result"
    }
   ],
   "source": [
    "y_test.describe()[:2]                                    # calculate summary statistics for the data"
   ]
  },
  {
   "cell_type": "markdown",
   "metadata": {},
   "source": [
    "Let's first check the univariate distributions of Porosity, Brittleness and Producton."
   ]
  },
  {
   "cell_type": "code",
   "execution_count": 18,
   "metadata": {},
   "outputs": [
    {
     "data": {
      "image/png": "[encoded data removed]",
      "text/plain": [
       "<Figure size 432x288 with 6 Axes>"
      ]
     },
     "metadata": {
      "needs_background": "light"
     },
     "output_type": "display_data"
    }
   ],
   "source": [
    "plt.subplot(231)\n",
    "plt.hist(X_train[\"Por\"], alpha = 0.8, color = 'darkorange', edgecolor = 'black', bins=20)\n",
    "plt.title('Porosity Training Data (%)')\n",
    "\n",
    "plt.subplot(232)\n",
    "plt.hist(X_train[\"Brittle\"], alpha = 0.8, color = 'darkorange', edgecolor = 'black', bins=20)\n",
    "plt.title('Britteness Training Data (%)')\n",
    "\n",
    "plt.subplot(233)\n",
    "plt.hist(y_train['cprod'], alpha = 0.8, color = 'darkorange', edgecolor = 'black', bins=20)\n",
    "plt.title('Production Training Data (MCFPD)')\n",
    "\n",
    "plt.subplot(234)\n",
    "plt.hist(X_test[\"Por\"], alpha = 0.8, color = 'darkorange', edgecolor = 'black', bins=20)\n",
    "plt.title('Porosity Testing Data (%)')\n",
    "\n",
    "plt.subplot(235)\n",
    "plt.hist(X_test[\"Brittle\"], alpha = 0.8, color = 'darkorange', edgecolor = 'black', bins=20)\n",
    "plt.title('Britteness Testing Data (%)')\n",
    "\n",
    "plt.subplot(236)\n",
    "plt.hist(y_test['cprod'], alpha = 0.8, color = 'darkorange', edgecolor = 'black', bins=20)\n",
    "plt.title('Production Testing Data (MCFPD)')\n",
    "\n",
    "plt.subplots_adjust(left=0.0, bottom=0.0, right=3.0, top=3.2, wspace=0.2, hspace=0.2)\n",
    "plt.show()"
   ]
  },
  {
   "cell_type": "markdown",
   "metadata": {},
   "source": [
    "The distributions are well behaved, we cannot observe obvious gaps nor truncations.  Let's look at a scatter plot of Porosity vs. Brittleness with points colored by Production."
   ]
  },
  {
   "cell_type": "code",
   "execution_count": 19,
   "metadata": {},
   "outputs": [
    {
     "data": {
      "image/png": "[encoded data removed]",
      "text/plain": [
       "<Figure size 432x288 with 4 Axes>"
      ]
     },
     "metadata": {
      "needs_background": "light"
     },
     "output_type": "display_data"
    }
   ],
   "source": [
    "plt.subplot(121)\n",
    "im = plt.scatter(X_train[\"Por\"],X_train[\"Brittle\"],s=None, c=y_train['cprod'], marker=None, cmap=cmap, norm=None, vmin=None, vmax=None, alpha=0.8, linewidths=0.3, edgecolors=\"black\")\n",
    "plt.title('Training Production vs. Brittleness and Porosity'); plt.xlabel('Porosity (%)'); plt.ylabel('Brittleness (%)')\n",
    "cbar = plt.colorbar(im, orientation = 'vertical')\n",
    "cbar.set_label(\"Production\", rotation=270, labelpad=20)\n",
    "\n",
    "plt.subplot(122)\n",
    "im = plt.scatter(X_test[\"Por\"],X_test[\"Brittle\"],s=None, c=y_test['cprod'], marker=None, cmap=cmap, norm=None, vmin=None, vmax=None, alpha=0.8, linewidths=0.3, edgecolors=\"black\")\n",
    "plt.title('Testing Production vs. Brittleness and Porosity'); plt.xlabel('Porosity (%)'); plt.ylabel('Brittleness (%)')\n",
    "cbar = plt.colorbar(im, orientation = 'vertical')\n",
    "cbar.set_label(\"Production\", rotation=270, labelpad=20)\n",
    "\n",
    "plt.subplots_adjust(left=0.0, bottom=0.0, right=2.0, top=1.2, wspace=0.2, hspace=0.2)\n",
    "\n",
    "plt.show()"
   ]
  },
  {
   "cell_type": "markdown",
   "metadata": {},
   "source": [
    "#### Instantiate, Fit and Predict with Gausian Naive Bayes\n",
    "\n",
    "Let's build a Gaussian naive Bayes model.\n",
    "\n",
    "We select the Gaussian model as it simplifies the inference problem to just a set of conditional means and variances given each feature.\n",
    "\n",
    "Recall we can set a prior probability of each response category\n",
    "\n",
    "* We will use the proportions from the training dataset.\n",
    "\n",
    "* 0.43 for high production (the mean of the binary dataset is the proportion of 1's)\n",
    "\n",
    "* 0.57 for low production (1 - proportion of high production)\n",
    "\n",
    "Another option would be to assume a naive, uniform prior, substitute the following:\n",
    "\n",
    "```python\n",
    "priors = (0.5,0.5)   # naive prior\n",
    "```"
   ]
  },
  {
   "cell_type": "code",
   "execution_count": 20,
   "metadata": {},
   "outputs": [],
   "source": [
    "priors = (0.5,0.5)                                        # set the prior probabilities of low and high production"
   ]
  },
  {
   "cell_type": "markdown",
   "metadata": {},
   "source": [
    "Let's build our Gaussian naive Bayes model.\n",
    "\n",
    "* instantiate it with the priors \n",
    "\n",
    "* train with the training data, we use the standard fit function "
   ]
  },
  {
   "cell_type": "code",
   "execution_count": 21,
   "metadata": {},
   "outputs": [],
   "source": [
    "gnb = GaussianNB(priors = priors)                           # instantiate the Gaussian naive Bayes model\n",
    "GaussianNB_fit = gnb.fit(X_train,y_train['cprod'])   # train with the training data"
   ]
  },
  {
   "cell_type": "markdown",
   "metadata": {},
   "source": [
    "Let's predict with our new model over the testing dataset.\n",
    "\n",
    "* test by predicting with the testing data, we use the standard prediction function "
   ]
  },
  {
   "cell_type": "code",
   "execution_count": 22,
   "metadata": {},
   "outputs": [],
   "source": [
    "y_pred = GaussianNB_fit.predict(np.c_[X_test['Por'],X_test['Brittle']]) # predict over the testing data"
   ]
  },
  {
   "cell_type": "markdown",
   "metadata": {},
   "source": [
    "#### Model Checking\n",
    "\n",
    "Let's check our model. With scikit learn we have great built in tools to evaluate our classification model. Let's try the classification report first.\n",
    "\n",
    "```python\n",
    "classification_report(truth, predicted)                # build a classification report to check our classification model\n",
    "```\n",
    "\n",
    "We get a table with summary metrics for model performance."
   ]
  },
  {
   "cell_type": "code",
   "execution_count": 23,
   "metadata": {},
   "outputs": [
    {
     "name": "stdout",
     "output_type": "stream",
     "text": [
      "              precision    recall  f1-score   support\n",
      "\n",
      "           0       0.96      0.96      0.96        28\n",
      "           1       0.95      0.95      0.95        22\n",
      "\n",
      "    accuracy                           0.96        50\n",
      "   macro avg       0.96      0.96      0.96        50\n",
      "weighted avg       0.96      0.96      0.96        50\n",
      "\n"
     ]
    }
   ],
   "source": [
    "from sklearn.metrics import classification_report\n",
    "print(classification_report(y_test['cprod'].values, y_pred, labels=[0,1]))"
   ]
  },
  {
   "cell_type": "markdown",
   "metadata": {},
   "source": [
    "The metrics include:\n",
    "    \n",
    "    * recall - the ratio of true positives divided by all cases of the category in the testing dataset\n",
    "    \n",
    "    * precision - the ratio of true positives divided by all positives (true positives + false positives)\n",
    "    \n",
    "    * f1-score - the harmonic mean of recall and precision\n",
    "    \n",
    "    * support - the number of samples of each category in the testing data\n",
    "    \n",
    "I also like to look at the confusion matrix.  \n",
    "\n",
    "* the x axis is the prediction - category 0 or 1\n",
    "\n",
    "* the y axis is the truth - category 0 or 1"
   ]
  },
  {
   "cell_type": "code",
   "execution_count": 24,
   "metadata": {},
   "outputs": [
    {
     "name": "stdout",
     "output_type": "stream",
     "text": [
      "[[27  1]\n",
      " [ 1 21]]\n"
     ]
    }
   ],
   "source": [
    "from sklearn.metrics import confusion_matrix\n",
    "print(confusion_matrix(y_test['cprod'].values, y_pred))"
   ]
  },
  {
   "cell_type": "markdown",
   "metadata": {},
   "source": [
    "From above we can observe:\n",
    "\n",
    "* 26 low production wells classified correctly as low production\n",
    "\n",
    "* 1 high production well misclassified as low production\n",
    "\n",
    "* 2 low production wells misclassified as high production\n",
    "\n",
    "* 21 high production wells classified correctly as high production\n",
    "\n",
    "#### Visualizing the Classification Model\n",
    "\n",
    "Let's visualize the model over the entire feature space.\n",
    "\n",
    "* here's the training data with the classification over the full range of predictor features.\n",
    "\n",
    "* blue for low production and yellow for high production\n",
    "\n",
    "Note: naive Bayes provides the posterior probability of high and low production\n",
    "\n",
    "* the classifications below are based on maximum apriori selection (MAPS), selecting the category with the highest probability\n",
    "\n",
    "Let's visualize the classification model (blue - low production, yellow - high production) over the predictor feature space with the training data plotted (white - low production, black - high production)."
   ]
  },
  {
   "cell_type": "code",
   "execution_count": 25,
   "metadata": {},
   "outputs": [
    {
     "data": {
      "text/plain": [
       "<module 'matplotlib.pyplot' from 'C:\\\\Users\\\\pm27995\\\\Anaconda3\\\\lib\\\\site-packages\\\\matplotlib\\\\pyplot.py'>"
      ]
     },
     "execution_count": 25,
     "metadata": {},
     "output_type": "execute_result"
    },
    {
     "data": {
      "image/png": "[encoded data removed]",
      "text/plain": [
       "<Figure size 432x288 with 2 Axes>"
      ]
     },
     "metadata": {
      "needs_background": "light"
     },
     "output_type": "display_data"
    }
   ],
   "source": [
    "visualize_model(GaussianNB_fit,X_train[\"Por\"],x1min,x1max,X_train[\"Brittle\"],x2min,x2max,y_train['cprod'],0.0,1.0,'Training Data and Naive Bayes Model')"
   ]
  },
  {
   "cell_type": "markdown",
   "metadata": {},
   "source": [
    "We could also visualize the posterior probabilities of low and high production.\n",
    "\n",
    "* here's the posterior probability of low and high production over the predictor feature space"
   ]
  },
  {
   "cell_type": "code",
   "execution_count": 26,
   "metadata": {},
   "outputs": [
    {
     "data": {
      "image/png": "[encoded data removed]",
      "text/plain": [
       "<Figure size 432x288 with 4 Axes>"
      ]
     },
     "metadata": {
      "needs_background": "light"
     },
     "output_type": "display_data"
    }
   ],
   "source": [
    "visualize_model_prob(GaussianNB_fit,X_train[\"Por\"],x1min,x1max,X_train[\"Brittle\"],x2min,x2max,y_train['cprod'],'Training Data and Naive Bayes Model')"
   ]
  },
  {
   "cell_type": "markdown",
   "metadata": {},
   "source": [
    "Finally, let's look at the classification model over the predictor feature space (blue - low production, yellow - high production) with the testing data plotted (white - low production, black - high production)."
   ]
  },
  {
   "cell_type": "code",
   "execution_count": null,
   "metadata": {},
   "outputs": [],
   "source": [
    "visualize_model(GaussianNB_fit,X_test[\"Por\"],x1min,x1max,X_test[\"Brittle\"],x2min,x2max,y_test['cprod'],0.0,1.0,'Testing Data and Naive Bayes Model')"
   ]
  },
  {
   "cell_type": "markdown",
   "metadata": {},
   "source": [
    "We have a reasonable model to predict well production from porosity and brittleness for an unconventional reservoir.\n",
    "\n",
    "#### Comments\n",
    "\n",
    "This was a basic demonstration of naive Bayes for prediction. A lot more could be done, for example, we could have applied variants such as:\n",
    "\n",
    "* multinomial naive Bayes\n",
    "\n",
    "* compliment naive Bayes\n",
    "\n",
    "* Bernoulli naive Bayes\n",
    "\n",
    "We could have worked with more predictor features, but for learning the method, it is nice to be able to visualize the entire classification in one plot!\n",
    "\n",
    "If you struggled with the basic Python used here check out my other basic demonstrations for DataFrames, ndarrays, univariate statistics, plotting data, declustering, data transformations, trend modeling and many other workflows available at https://github.com/GeostatsGuy/PythonNumericalDemos and https://github.com/GeostatsGuy/GeostatsPy. \n",
    "  \n",
    "I hope this was helpful,\n",
    "\n",
    "*Michael*\n",
    "\n",
    "#### The Author:\n",
    "\n",
    "### Michael Pyrcz, Associate Professor, University of Texas at Austin \n",
    "*Novel Data Analytics, Geostatistics and Machine Learning Subsurface Solutions*\n",
    "\n",
    "With over 17 years of experience in subsurface consulting, research and development, Michael has returned to academia driven by his passion for teaching and enthusiasm for enhancing engineers' and geoscientists' impact in subsurface resource development. \n",
    "\n",
    "For more about Michael check out these links:\n",
    "\n",
    "#### [Twitter](https://twitter.com/geostatsguy) | [GitHub](https://github.com/GeostatsGuy) | [Website](http://michaelpyrcz.com) | [GoogleScholar](https://scholar.google.com/citations?user=QVZ20eQAAAAJ&hl=en&oi=ao) | [Book](https://www.amazon.com/Geostatistical-Reservoir-Modeling-Michael-Pyrcz/dp/0199731446) | [YouTube](https://www.youtube.com/channel/UCLqEr-xV-ceHdXXXrTId5ig)  | [LinkedIn](https://www.linkedin.com/in/michael-pyrcz-61a648a1)\n",
    "\n",
    "#### Want to Work Together?\n",
    "\n",
    "I hope this content is helpful to those that want to learn more about subsurface modeling, data analytics and machine learning. Students and working professionals are welcome to participate.\n",
    "\n",
    "* Want to invite me to visit your company for training, mentoring, project review, workflow design and / or consulting? I'd be happy to drop by and work with you! \n",
    "\n",
    "* Interested in partnering, supporting my graduate student research or my Subsurface Data Analytics and Machine Learning consortium (co-PIs including Profs. Foster, Torres-Verdin and van Oort)? My research combines data analytics, stochastic modeling and machine learning theory with practice to develop novel methods and workflows to add value. We are solving challenging subsurface problems!\n",
    "\n",
    "* I can be reached at mpyrcz@austin.utexas.edu.\n",
    "\n",
    "I'm always happy to discuss,\n",
    "\n",
    "*Michael*\n",
    "\n",
    "Michael Pyrcz, Ph.D., P.Eng. Associate Professor The Hildebrand Department of Petroleum and Geosystems Engineering, Bureau of Economic Geology, The Jackson School of Geosciences, The University of Texas at Austin\n",
    "\n",
    "I have other demonstrations on the basics of working with DataFrames, ndarrays, univariate statistics, plotting data, declustering, data transformations, trend modeling and many other workflows available at https://github.com/GeostatsGuy/PythonNumericalDemos and https://github.com/GeostatsGuy/GeostatsPy. \n",
    "  \n",
    "I hope this was helpful,\n",
    "\n",
    "*Michael*\n",
    "\n",
    "Michael Pyrcz, Ph.D., P.Eng. Associate Professor The Hildebrand Department of Petroleum and Geosystems Engineering, Bureau of Economic Geology, The Jackson School of Geosciences, The University of Texas at Austin\n",
    "\n",
    "#### More Resources Available at: [Twitter](https://twitter.com/geostatsguy) | [GitHub](https://github.com/GeostatsGuy) | [Website](http://michaelpyrcz.com) | [GoogleScholar](https://scholar.google.com/citations?user=QVZ20eQAAAAJ&hl=en&oi=ao) | [Book](https://www.amazon.com/Geostatistical-Reservoir-Modeling-Michael-Pyrcz/dp/0199731446) | [YouTube](https://www.youtube.com/channel/UCLqEr-xV-ceHdXXXrTId5ig)  | [LinkedIn](https://www.linkedin.com/in/michael-pyrcz-61a648a1)\n"
   ]
  },
  {
   "cell_type": "code",
   "execution_count": null,
   "metadata": {},
   "outputs": [],
   "source": []
  }
 ],
 "metadata": {
  "kernelspec": {
   "display_name": "Python 3 (ipykernel)",
   "language": "python",
   "name": "python3"
  },
  "language_info": {
   "codemirror_mode": {
    "name": "ipython",
    "version": 3
   },
   "file_extension": ".py",
   "mimetype": "text/x-python",
   "name": "python",
   "nbconvert_exporter": "python",
   "pygments_lexer": "ipython3",
   "version": "3.9.12"
  }
 },
 "nbformat": 4,
 "nbformat_minor": 2
}
