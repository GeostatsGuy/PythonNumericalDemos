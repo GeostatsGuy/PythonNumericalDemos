{
 "cells": [
  {
   "cell_type": "markdown",
   "metadata": {
    "collapsed": true
   },
   "source": [
    "\n",
    "## Variogram Calculation in Python with PyGSLIB / GeostatPy for Engineers, Data Scientists and Geoscientists \n",
    "### Michael Pyrcz, Associate Professor, University of Texas at Austin \n",
    "\n",
    "#### [Twitter/@GeostatsGuy](https://twitter.com/geostatsguy) | [GitHub/GeostatsGuy](https://github.com/GeostatsGuy) | [Website](http://michaelpyrcz.com) | [GoogleScholar](https://scholar.google.com/citations?user=QVZ20eQAAAAJ&hl=en&oi=ao) | [Book](https://www.amazon.com/Geostatistical-Reservoir-Modeling-Michael-Pyrcz/dp/0199731446) | [YouTube Lectures](https://www.youtube.com/channel/UCLqEr-xV-ceHdXXXrTId5ig)\n",
    "\n",
    "This is a tutorial for / demonstration of **variogram calculation in Python** with the PyGSLIB package (by Adrian Martinez Vargas) that wraps some of the FORTRAN algorithms from GSLIB, Geostatistical Library (Deutsch and Journel, 1997).  I also use a couple functions form GeostatPy (by Michael Pyrcz, an informal collection of Python programs that write parameter files, data files, run GSLIB executables and then read results back and some reimplementation of GSLIB visualization with MatPlotLib methods). The GeostatPy functions are embeded directly in the workflow.\n",
    "\n",
    "Variogram calculation for irregularly-spaced data is available in the $gam$ algorithm from GSLIB. The methods is written about in the GSLIB book by Deutsch and Journel (1998) and other textbooks such as Pyrcz and Deutsch (2014).  The implementation is true to the GSLIB parameterization and includes the ability to calculate an array of outputs with multiple vairogram types and multiple directions all at once.  \n",
    "\n",
    "The steps for variogram claculation include:\n",
    "\n",
    "1. load the 2D data file\n",
    "2. perform basic data checks\n",
    "3. transform to standard normal\n",
    "4. calculate and visualize an omnidirectional variogram\n",
    "5. calculate and visualize directionals variogram\n",
    "\n",
    "To accomplish this I have provided wrappers or reimplementation in Python for the following GSLIB methods:\n",
    "\n",
    "1. hist - histograms plots reimplemented with GSLIB parameters using python methods\n",
    "2. locmap - location maps reimplemented with GSLIB parameters using python methods\n",
    "3. affine - affine correction adjust the mean and standard deviation of a feature reimplemented with GSLIB parameters using Python methods\n",
    "\n",
    "Note: If interested the GSLIB source and executables are available at http://www.statios.com/Quick/gslib.html.  For the reference on using GSLIB check out the User Guide, GSLIB: Geostatistical Software Library and User's Guide by Clayton V. Deutsch and Andre G. Journel.\n",
    "\n",
    "I built this workflow to support my students learning about variogram calculation and also to try out the PyGSLIB package in Python.  \n",
    "\n",
    "I created GeostatPy functions to allow people to use these GSLIB functions that are extremely robust in Python. Also this should be a bridge to allow so many familar with GSLIB to work in Python as a kept the parameterization and displays consistent with GSLIB.  The wrappers are simple functions declared below that write the parameter files, run the GSLIB executable in the working directory and load and visualize the output in Python. This will be included on GitHub for anyone to try it out https://github.com/GeostatsGuy/.  \n",
    "\n",
    "I used this tutorial in my Introduction to Geostatistics undergraduate class (PGE337 at UT Austin) as part of a first introduction to geostatistics and Python for the engineering undergraduate students. It is assumed that students have no previous Python, geostatistics nor machine learning experience; therefore, all steps of the code and workflow are explored and described. This tutorial is augmented with course notes in my class.  The Python code and markdown was developed and tested in Jupyter. \n",
    "\n",
    "#### Load the required libraries\n",
    "\n",
    "The following code loads the required libraries.\n"
   ]
  },
  {
   "cell_type": "code",
   "execution_count": 204,
   "metadata": {},
   "outputs": [],
   "source": [
    "import os                                                 # to set current working directory \n",
    "import numpy as np                                        # arrays and matrix math\n",
    "import pandas as pd                                       # DataFrames\n",
    "import matplotlib.pyplot as plt                           # plotting\n",
    "import pygslib as gslib"
   ]
  },
  {
   "cell_type": "markdown",
   "metadata": {},
   "source": [
    "If you get a package import error, you may have to first install some of these packages. This can usually be accomplished by opening up a command window on Windows and then typing 'python -m pip install [package-name]'. More assistance is available with the respective package docs.  \n",
    "\n",
    "#### Declare functions\n",
    "\n",
    "GeostatsPy includes wrappers and reimplementations of GSLIB method along with 4 utilities to move between GSLIB's Geo-EAS data sets and DataFrames, and grids and 2D Numpy arrays respectively and 2 utilities to resample from regular datasets.  For this workflow we have embedded these:\n",
    "\n",
    "1. hist\n",
    "2. locmap\n",
    "3. affine\n",
    "\n",
    "For now we embed the functions in the workflow below. In the future this will be turned into a proper Python package.  Warning, there has been no attempt to make these functions robust in the presence of bad inputs.  If you get a crazy error check the inputs.  Are the arrays empty and are they the same size when they should be?  Are the arrays the correct dimension?  Is the parameter order mixed up?  Make sure the inputs are consistent with the descriptions in this document."
   ]
  },
  {
   "cell_type": "code",
   "execution_count": 205,
   "metadata": {},
   "outputs": [],
   "source": [
    "# Some GeostatsPy Functions - by Michael Pyrcz the full set is available at https://git.io/fNgR7.\n",
    "\n",
    "# histogram, reimplemented in Python of GSLIB hist with MatPlotLib methods\n",
    "def hist(array,xmin,xmax,log,cumul,bins,weights,xlabel,title):\n",
    "    plt.figure(figsize=(8,6))\n",
    "    cs = plt.hist(array, alpha = 0.2, color = 'red', edgecolor = 'black', bins=bins, range = [xmin,xmax], weights = weights, log = log, cumulative = cumul)\n",
    "    plt.title(title)\n",
    "    plt.xlabel(xlabel); plt.ylabel('Frequency')    \n",
    "    plt.show()\n",
    "    return\n",
    "\n",
    "# location map, reimplemention in Python of GSLIB locmap with MatPlotLib methods\n",
    "def locmap(df,xcol,ycol,vcol,xmin,xmax,ymin,ymax,vmin,vmax,title,xlabel,ylabel,vlabel,cmap):\n",
    "    ixy = 0 \n",
    "    plt.figure(figsize=(8,6))    \n",
    "    im = plt.scatter(df[xcol],df[ycol],s=None, c=df[vcol], marker=None, cmap=cmap, norm=None, vmin=vmin, vmax=vmax, alpha=0.8, linewidths=0.8, verts=None, edgecolors=\"black\")\n",
    "    plt.title(title)\n",
    "    plt.xlim(xmin,xmax)\n",
    "    plt.ylim(ymin,ymax)    \n",
    "    plt.xlabel(xlabel)\n",
    "    plt.ylabel(ylabel)\n",
    "    cbar = plt.colorbar(im, orientation = 'vertical',ticks=np.linspace(vmin,vmax,10))\n",
    "    cbar.set_label(vlabel, rotation=270, labelpad=20)\n",
    "    plt.show()\n",
    "    return im\n",
    "\n",
    "# affine distribution correction reimplemented in Python with numpy methods \n",
    "def affine(array,tmean,tstdev):    \n",
    "    if array.ndim != 2:\n",
    "        Print(\"Error: must use a 2D array\")\n",
    "        return\n",
    "    nx = array.shape[0]\n",
    "    ny = array.shape[1]\n",
    "    mean = np.average(array)\n",
    "    stdev = np.std(array)\n",
    "    for iy in range(0,ny):\n",
    "        for ix in range(0,nx):\n",
    "             array[ix,iy]= (tstdev/stdev)*(array[ix,iy] - mean) + tmean  \n",
    "    return(array)            \n"
   ]
  },
  {
   "cell_type": "markdown",
   "metadata": {},
   "source": [
    "#### Set the working directory\n",
    "\n",
    "I always like to do this so I don't lose files and to simplify subsequent read and writes (avoid including the full address each time). "
   ]
  },
  {
   "cell_type": "code",
   "execution_count": 206,
   "metadata": {},
   "outputs": [],
   "source": [
    "os.chdir(\"c:/PGE337\")                                   # set the working directory"
   ]
  },
  {
   "cell_type": "markdown",
   "metadata": {},
   "source": [
    "You will have to update the part in quotes with your own working directory and the format is different on a Mac (e.g. \"~/PGE\"). \n",
    "\n",
    "##### Load the 2D Spatial Data\n",
    "\n",
    "The dataset '2D_MV_200Wells.csv' is available on GitHub at https://git.io/fxyMy.  Copy it to your working directory (set above) and the following code will load it as a DataFrame. We also perform basic data checks by visualizing the data and then calculating summary statistics."
   ]
  },
  {
   "cell_type": "code",
   "execution_count": 207,
   "metadata": {},
   "outputs": [
    {
     "name": "stdout",
     "output_type": "stream",
     "text": [
      "      X     Y  facies_threshold_0.3  porosity  permeability  \\\n",
      "0   565  1485                     1    0.1184         6.170   \n",
      "1  2585  1185                     1    0.1566         6.275   \n",
      "2  2065  2865                     2    0.1920        92.297   \n",
      "3  3575  2655                     1    0.1621         9.048   \n",
      "4  1835    35                     1    0.1766         7.123   \n",
      "\n",
      "   acoustic_impedance  \n",
      "0               2.009  \n",
      "1               2.864  \n",
      "2               3.524  \n",
      "3               2.157  \n",
      "4               3.979  \n"
     ]
    },
    {
     "data": {
      "text/html": [
       "<div>\n",
       "<style scoped>\n",
       "    .dataframe tbody tr th:only-of-type {\n",
       "        vertical-align: middle;\n",
       "    }\n",
       "\n",
       "    .dataframe tbody tr th {\n",
       "        vertical-align: top;\n",
       "    }\n",
       "\n",
       "    .dataframe thead th {\n",
       "        text-align: right;\n",
       "    }\n",
       "</style>\n",
       "<table border=\"1\" class=\"dataframe\">\n",
       "  <thead>\n",
       "    <tr style=\"text-align: right;\">\n",
       "      <th></th>\n",
       "      <th>X</th>\n",
       "      <th>Y</th>\n",
       "      <th>facies_threshold_0.3</th>\n",
       "      <th>porosity</th>\n",
       "      <th>permeability</th>\n",
       "      <th>acoustic_impedance</th>\n",
       "    </tr>\n",
       "  </thead>\n",
       "  <tbody>\n",
       "    <tr>\n",
       "      <th>0</th>\n",
       "      <td>565</td>\n",
       "      <td>1485</td>\n",
       "      <td>1</td>\n",
       "      <td>0.1184</td>\n",
       "      <td>6.170</td>\n",
       "      <td>2.009</td>\n",
       "    </tr>\n",
       "    <tr>\n",
       "      <th>1</th>\n",
       "      <td>2585</td>\n",
       "      <td>1185</td>\n",
       "      <td>1</td>\n",
       "      <td>0.1566</td>\n",
       "      <td>6.275</td>\n",
       "      <td>2.864</td>\n",
       "    </tr>\n",
       "    <tr>\n",
       "      <th>2</th>\n",
       "      <td>2065</td>\n",
       "      <td>2865</td>\n",
       "      <td>2</td>\n",
       "      <td>0.1920</td>\n",
       "      <td>92.297</td>\n",
       "      <td>3.524</td>\n",
       "    </tr>\n",
       "    <tr>\n",
       "      <th>3</th>\n",
       "      <td>3575</td>\n",
       "      <td>2655</td>\n",
       "      <td>1</td>\n",
       "      <td>0.1621</td>\n",
       "      <td>9.048</td>\n",
       "      <td>2.157</td>\n",
       "    </tr>\n",
       "    <tr>\n",
       "      <th>4</th>\n",
       "      <td>1835</td>\n",
       "      <td>35</td>\n",
       "      <td>1</td>\n",
       "      <td>0.1766</td>\n",
       "      <td>7.123</td>\n",
       "      <td>3.979</td>\n",
       "    </tr>\n",
       "  </tbody>\n",
       "</table>\n",
       "</div>"
      ],
      "text/plain": [
       "      X     Y  facies_threshold_0.3  porosity  permeability  \\\n",
       "0   565  1485                     1    0.1184         6.170   \n",
       "1  2585  1185                     1    0.1566         6.275   \n",
       "2  2065  2865                     2    0.1920        92.297   \n",
       "3  3575  2655                     1    0.1621         9.048   \n",
       "4  1835    35                     1    0.1766         7.123   \n",
       "\n",
       "   acoustic_impedance  \n",
       "0               2.009  \n",
       "1               2.864  \n",
       "2               3.524  \n",
       "3               2.157  \n",
       "4               3.979  "
      ]
     },
     "execution_count": 207,
     "metadata": {},
     "output_type": "execute_result"
    }
   ],
   "source": [
    "df = pd.read_csv(\"2D_MV_200Wells.csv\")                # read a .csv file in as a DataFrame\n",
    "print(df.iloc[0:5,:])                                 # display first 4 samples in the table as a preview\n",
    "df.head()                                             # we could also use this command for a table preview"
   ]
  },
  {
   "cell_type": "code",
   "execution_count": 208,
   "metadata": {},
   "outputs": [
    {
     "data": {
      "text/html": [
       "<div>\n",
       "<style scoped>\n",
       "    .dataframe tbody tr th:only-of-type {\n",
       "        vertical-align: middle;\n",
       "    }\n",
       "\n",
       "    .dataframe tbody tr th {\n",
       "        vertical-align: top;\n",
       "    }\n",
       "\n",
       "    .dataframe thead th {\n",
       "        text-align: right;\n",
       "    }\n",
       "</style>\n",
       "<table border=\"1\" class=\"dataframe\">\n",
       "  <thead>\n",
       "    <tr style=\"text-align: right;\">\n",
       "      <th></th>\n",
       "      <th>count</th>\n",
       "      <th>mean</th>\n",
       "      <th>std</th>\n",
       "      <th>min</th>\n",
       "      <th>25%</th>\n",
       "      <th>50%</th>\n",
       "      <th>75%</th>\n",
       "      <th>max</th>\n",
       "    </tr>\n",
       "  </thead>\n",
       "  <tbody>\n",
       "    <tr>\n",
       "      <th>X</th>\n",
       "      <td>200.0</td>\n",
       "      <td>2053.400000</td>\n",
       "      <td>1113.524641</td>\n",
       "      <td>25.00000</td>\n",
       "      <td>1112.500000</td>\n",
       "      <td>2160.00000</td>\n",
       "      <td>2915.0000</td>\n",
       "      <td>3955.0000</td>\n",
       "    </tr>\n",
       "    <tr>\n",
       "      <th>Y</th>\n",
       "      <td>200.0</td>\n",
       "      <td>1876.150000</td>\n",
       "      <td>1137.580160</td>\n",
       "      <td>35.00000</td>\n",
       "      <td>920.000000</td>\n",
       "      <td>1855.00000</td>\n",
       "      <td>2782.5000</td>\n",
       "      <td>3995.0000</td>\n",
       "    </tr>\n",
       "    <tr>\n",
       "      <th>facies_threshold_0.3</th>\n",
       "      <td>200.0</td>\n",
       "      <td>1.330000</td>\n",
       "      <td>0.471393</td>\n",
       "      <td>1.00000</td>\n",
       "      <td>1.000000</td>\n",
       "      <td>1.00000</td>\n",
       "      <td>2.0000</td>\n",
       "      <td>2.0000</td>\n",
       "    </tr>\n",
       "    <tr>\n",
       "      <th>porosity</th>\n",
       "      <td>200.0</td>\n",
       "      <td>0.149300</td>\n",
       "      <td>0.032948</td>\n",
       "      <td>0.05000</td>\n",
       "      <td>0.132175</td>\n",
       "      <td>0.15015</td>\n",
       "      <td>0.1742</td>\n",
       "      <td>0.2232</td>\n",
       "    </tr>\n",
       "    <tr>\n",
       "      <th>permeability</th>\n",
       "      <td>200.0</td>\n",
       "      <td>25.287462</td>\n",
       "      <td>64.470135</td>\n",
       "      <td>0.01582</td>\n",
       "      <td>1.366750</td>\n",
       "      <td>4.82550</td>\n",
       "      <td>14.5970</td>\n",
       "      <td>463.6410</td>\n",
       "    </tr>\n",
       "    <tr>\n",
       "      <th>acoustic_impedance</th>\n",
       "      <td>200.0</td>\n",
       "      <td>3.000435</td>\n",
       "      <td>0.592201</td>\n",
       "      <td>2.00900</td>\n",
       "      <td>2.483250</td>\n",
       "      <td>2.96450</td>\n",
       "      <td>3.5270</td>\n",
       "      <td>3.9840</td>\n",
       "    </tr>\n",
       "  </tbody>\n",
       "</table>\n",
       "</div>"
      ],
      "text/plain": [
       "                      count         mean          std       min          25%  \\\n",
       "X                     200.0  2053.400000  1113.524641  25.00000  1112.500000   \n",
       "Y                     200.0  1876.150000  1137.580160  35.00000   920.000000   \n",
       "facies_threshold_0.3  200.0     1.330000     0.471393   1.00000     1.000000   \n",
       "porosity              200.0     0.149300     0.032948   0.05000     0.132175   \n",
       "permeability          200.0    25.287462    64.470135   0.01582     1.366750   \n",
       "acoustic_impedance    200.0     3.000435     0.592201   2.00900     2.483250   \n",
       "\n",
       "                             50%        75%        max  \n",
       "X                     2160.00000  2915.0000  3955.0000  \n",
       "Y                     1855.00000  2782.5000  3995.0000  \n",
       "facies_threshold_0.3     1.00000     2.0000     2.0000  \n",
       "porosity                 0.15015     0.1742     0.2232  \n",
       "permeability             4.82550    14.5970   463.6410  \n",
       "acoustic_impedance       2.96450     3.5270     3.9840  "
      ]
     },
     "execution_count": 208,
     "metadata": {},
     "output_type": "execute_result"
    }
   ],
   "source": [
    "df.describe().transpose()   "
   ]
  },
  {
   "cell_type": "markdown",
   "metadata": {},
   "source": [
    "The following are the basic parameters for the demonstration.  This includes the number of cells in the 2D regular grid, the cell size (step) and the x and y min and max along with the color scheme."
   ]
  },
  {
   "cell_type": "code",
   "execution_count": 209,
   "metadata": {},
   "outputs": [],
   "source": [
    "xmin = 0.0; xmax = 4000.0\n",
    "ymin = 0.0; ymax = 4000.0\n",
    "vmin = 0.05; vmax = 0.22; cmap = plt.cm.plasma \n",
    "n = len(df)\n",
    "weights = np.ones(n)"
   ]
  },
  {
   "cell_type": "markdown",
   "metadata": {},
   "source": [
    "For variogram calculations we will want to visualize the data.  We do this to determine variogram search parameters such as lag distance and number of lags.  In addition, we should look for data issues (anomalous values, data coverage) and trends. "
   ]
  },
  {
   "cell_type": "code",
   "execution_count": 210,
   "metadata": {},
   "outputs": [
    {
     "data": {
      "image/png": "[encoded data removed]",
      "text/plain": [
       "<Figure size 576x432 with 2 Axes>"
      ]
     },
     "metadata": {},
     "output_type": "display_data"
    },
    {
     "data": {
      "text/plain": [
       "<matplotlib.collections.PathCollection at 0x20c9e696a58>"
      ]
     },
     "execution_count": 210,
     "metadata": {},
     "output_type": "execute_result"
    }
   ],
   "source": [
    "locmap(df,\"X\",\"Y\",\"porosity\",xmin,xmax,ymin,ymax,vmin,vmax,\"Well Average Porosity\",\"X (m)\",\"Y (m)\",\"Porosity\",cmap)"
   ]
  },
  {
   "cell_type": "markdown",
   "metadata": {},
   "source": [
    "We should also look at the distribution.  We are concerned about outliers (variogram is sensitive to outliers), distribution shape (is it already Gaussian?) and the variance as this is the sill of our experimental variogram."
   ]
  },
  {
   "cell_type": "code",
   "execution_count": 211,
   "metadata": {},
   "outputs": [
    {
     "data": {
      "image/png": "[encoded data removed]",
      "text/plain": [
       "<Figure size 576x432 with 1 Axes>"
      ]
     },
     "metadata": {},
     "output_type": "display_data"
    },
    {
     "name": "stdout",
     "output_type": "stream",
     "text": [
      "Porosity Variance =  0.0011\n"
     ]
    }
   ],
   "source": [
    "hist(df[\"porosity\"],vmin,vmax,log=False,cumul=False,bins=20,weights=None,xlabel=\"Porosity (%)\",title=\"Porosity Dataset\")\n",
    "var = np.var(df[\"porosity\"])\n",
    "print('Porosity Variance = ',round(var,4))"
   ]
  },
  {
   "cell_type": "markdown",
   "metadata": {},
   "source": [
    "Let's transform the data to standard normal (Gaussian with a mean of 0.0 and a variance of 1.0).  This would be required if we were applying the variogram in a Gaussian simulation method. "
   ]
  },
  {
   "cell_type": "code",
   "execution_count": 212,
   "metadata": {},
   "outputs": [
    {
     "name": "stdout",
     "output_type": "stream",
     "text": [
      "Normal Score Porosity Variance =  0.9908\n"
     ]
    }
   ],
   "source": [
    "t1, t2 = gslib.nonlinear.ttable(z = df['porosity'].values, w = weights)\n",
    "npor = gslib.nonlinear.nscore(z = por, transin = t1, transout = t2)\n",
    "df[\"nporosity\"] = npor\n",
    "var = np.var(df[\"nporosity\"])\n",
    "print('Normal Score Porosity Variance = ',round(var,4))"
   ]
  },
  {
   "cell_type": "markdown",
   "metadata": {},
   "source": [
    "The variogram calculation will require an Z value, since we are in 2D we will add a new 'Z' property to our DataFrame with just 0.0 values. We will check the DataFrame again to make sure we have all the variables as expected."
   ]
  },
  {
   "cell_type": "code",
   "execution_count": 213,
   "metadata": {},
   "outputs": [
    {
     "data": {
      "text/html": [
       "<div>\n",
       "<style scoped>\n",
       "    .dataframe tbody tr th:only-of-type {\n",
       "        vertical-align: middle;\n",
       "    }\n",
       "\n",
       "    .dataframe tbody tr th {\n",
       "        vertical-align: top;\n",
       "    }\n",
       "\n",
       "    .dataframe thead th {\n",
       "        text-align: right;\n",
       "    }\n",
       "</style>\n",
       "<table border=\"1\" class=\"dataframe\">\n",
       "  <thead>\n",
       "    <tr style=\"text-align: right;\">\n",
       "      <th></th>\n",
       "      <th>X</th>\n",
       "      <th>Y</th>\n",
       "      <th>facies_threshold_0.3</th>\n",
       "      <th>porosity</th>\n",
       "      <th>permeability</th>\n",
       "      <th>acoustic_impedance</th>\n",
       "      <th>nporosity</th>\n",
       "      <th>Z</th>\n",
       "    </tr>\n",
       "  </thead>\n",
       "  <tbody>\n",
       "    <tr>\n",
       "      <th>0</th>\n",
       "      <td>565</td>\n",
       "      <td>1485</td>\n",
       "      <td>1</td>\n",
       "      <td>0.1184</td>\n",
       "      <td>6.170</td>\n",
       "      <td>2.009</td>\n",
       "      <td>-0.984235</td>\n",
       "      <td>0.0</td>\n",
       "    </tr>\n",
       "    <tr>\n",
       "      <th>1</th>\n",
       "      <td>2585</td>\n",
       "      <td>1185</td>\n",
       "      <td>1</td>\n",
       "      <td>0.1566</td>\n",
       "      <td>6.275</td>\n",
       "      <td>2.864</td>\n",
       "      <td>0.170013</td>\n",
       "      <td>0.0</td>\n",
       "    </tr>\n",
       "    <tr>\n",
       "      <th>2</th>\n",
       "      <td>2065</td>\n",
       "      <td>2865</td>\n",
       "      <td>2</td>\n",
       "      <td>0.1920</td>\n",
       "      <td>92.297</td>\n",
       "      <td>3.524</td>\n",
       "      <td>1.356312</td>\n",
       "      <td>0.0</td>\n",
       "    </tr>\n",
       "    <tr>\n",
       "      <th>3</th>\n",
       "      <td>3575</td>\n",
       "      <td>2655</td>\n",
       "      <td>1</td>\n",
       "      <td>0.1621</td>\n",
       "      <td>9.048</td>\n",
       "      <td>2.157</td>\n",
       "      <td>0.365149</td>\n",
       "      <td>0.0</td>\n",
       "    </tr>\n",
       "    <tr>\n",
       "      <th>4</th>\n",
       "      <td>1835</td>\n",
       "      <td>35</td>\n",
       "      <td>1</td>\n",
       "      <td>0.1766</td>\n",
       "      <td>7.123</td>\n",
       "      <td>3.979</td>\n",
       "      <td>0.730639</td>\n",
       "      <td>0.0</td>\n",
       "    </tr>\n",
       "  </tbody>\n",
       "</table>\n",
       "</div>"
      ],
      "text/plain": [
       "      X     Y  facies_threshold_0.3  porosity  permeability  \\\n",
       "0   565  1485                     1    0.1184         6.170   \n",
       "1  2585  1185                     1    0.1566         6.275   \n",
       "2  2065  2865                     2    0.1920        92.297   \n",
       "3  3575  2655                     1    0.1621         9.048   \n",
       "4  1835    35                     1    0.1766         7.123   \n",
       "\n",
       "   acoustic_impedance  nporosity    Z  \n",
       "0               2.009  -0.984235  0.0  \n",
       "1               2.864   0.170013  0.0  \n",
       "2               3.524   1.356312  0.0  \n",
       "3               2.157   0.365149  0.0  \n",
       "4               3.979   0.730639  0.0  "
      ]
     },
     "execution_count": 213,
     "metadata": {},
     "output_type": "execute_result"
    }
   ],
   "source": [
    "z = np.zeros(n)\n",
    "df[\"Z\"] = z\n",
    "df.head()"
   ]
  },
  {
   "cell_type": "markdown",
   "metadata": {},
   "source": [
    "Now we check the histogram of the normal score transformed porosity values, 'nporosity' in our DataFrame."
   ]
  },
  {
   "cell_type": "code",
   "execution_count": 151,
   "metadata": {},
   "outputs": [
    {
     "data": {
      "image/png": "[encoded data removed]",
      "text/plain": [
       "<Figure size 576x432 with 1 Axes>"
      ]
     },
     "metadata": {},
     "output_type": "display_data"
    },
    {
     "name": "stdout",
     "output_type": "stream",
     "text": [
      "Normal Score Porosity Variance =  0.9908\n"
     ]
    }
   ],
   "source": [
    "hist(df[\"nporosity\"],-3,3,log=False,cumul=False,bins=20,weights=None,xlabel=\"Normal Score Porosity\",title=\"Normal Score Porosity Dataset\")\n",
    "var = np.var(df[\"nporosity\"])\n",
    "print('Normal Score Porosity Variance = ',round(var,4))"
   ]
  },
  {
   "cell_type": "markdown",
   "metadata": {},
   "source": [
    "The property distribution is standard normal and we have a good idea of the parameters for the search template so we are ready to set the parameters for a 2D omnidirectional variogram calculation.  This is what's known as a library in Python. The parameters are the same as those in GSLIB, and consistent with the class notes."
   ]
  },
  {
   "cell_type": "code",
   "execution_count": 214,
   "metadata": {},
   "outputs": [],
   "source": [
    "parameters = {\n",
    "        'x'      :  df['X'],          # X coordinates, array('f') with bounds (nd), nd is number of data points\n",
    "        'y'      :  df['Y'],          # Y coordinates, array('f') with bounds (nd)\n",
    "        'z'      :  df['Z'],          # Z coordinates, array('f') with bounds (nd)\n",
    "        'bhid'   :  df['Z'],          # bhid for downhole variogram, array('i') with bounds (nd)\n",
    "        'vr'     :  df[\"nporosity\"],  # Variables, array('f') with bounds (nd,nv), nv is number of variables\n",
    "        'tmin'   : -1.0e21,        # trimming limits, float\n",
    "        'tmax'   :  1.0e21,        # trimming limits, float\n",
    "        'nlag'   :  20,            # number of lags, int\n",
    "        'xlag'   :  100,           # lag separation distance, float\n",
    "        'xltol'  :  50,            # lag tolerance, float\n",
    "        'azm'    :  [0],             # azimuth, array('f') with bounds (ndir)\n",
    "        'atol'   :  [90],            # azimuth tolerance, array('f') with bounds (ndir)\n",
    "        'bandwh' :  [9999],          # bandwidth 'horizontal', array('f') with bounds (ndir)\n",
    "        'dip'    :  [0],             # dip, array('f') with bounds (ndir)\n",
    "        'dtol'   :  [0],             # dip tolerance, array('f') with bounds (ndir)\n",
    "        'bandwd' :  [9999],          # bandwidth 'vertical', array('f') with bounds (ndir)\n",
    "        'isill'  :  0,             # standardize sills? (0=no, 1=yes), int\n",
    "        'sills'  :  [1.0],           # variance used to std the sills, array('f') with bounds (nv)\n",
    "        'ivtail' :  [1],             # tail var., array('i') with bounds (nvarg), nvarg is number of variograms\n",
    "        'ivhead' :  [1],             # head var., array('i') with bounds (nvarg)\n",
    "        'ivtype' :  [1],             # variogram type, array('i') with bounds (nvarg)\n",
    "        'maxclp' :  [50000]}         # maximum number of variogram point cloud to use, input int"
   ]
  },
  {
   "cell_type": "markdown",
   "metadata": {},
   "source": [
    "The PyGSLIB package includes a check method for the library.  Run this and check for error."
   ]
  },
  {
   "cell_type": "code",
   "execution_count": 215,
   "metadata": {},
   "outputs": [
    {
     "name": "stdout",
     "output_type": "stream",
     "text": [
      "The variogram parameters pass the test.\n"
     ]
    }
   ],
   "source": [
    "variogram_check = gslib.gslib.check_gamv_par(parameters)\n",
    "if variogram_check == 1:\n",
    "    print(\"The variogram parameters pass the test.\")\n",
    "else:\n",
    "    print(\"The variogram parameters failed the test, check the errors.\")"
   ]
  },
  {
   "cell_type": "markdown",
   "metadata": {},
   "source": [
    "Now we are ready to calculate a variogram.  The following includes output with lag distance (dis), variogram value (gam), number of pairs (np) and a variety of other outputs that we will not use in this workflow (check the PyGSLIB docs to learn more)."
   ]
  },
  {
   "cell_type": "code",
   "execution_count": 95,
   "metadata": {},
   "outputs": [],
   "source": [
    "dis, gam, hm, tm, hv, tv, np, cldi, cldj, cldg, cldh = gslib.gslib.gamv(parameters)"
   ]
  },
  {
   "cell_type": "markdown",
   "metadata": {},
   "source": [
    "Let's plot the omnidirectional variogram.  I use the MatPlotLib package to make a standard variogram plot.  Note, the outputs are arrays over variogram types and directions, by using [0][0] we indicate to use the first (and only) one."
   ]
  },
  {
   "cell_type": "code",
   "execution_count": 194,
   "metadata": {},
   "outputs": [
    {
     "data": {
      "image/png": "[encoded data removed]",
      "text/plain": [
       "<Figure size 432x288 with 1 Axes>"
      ]
     },
     "metadata": {},
     "output_type": "display_data"
    }
   ],
   "source": [
    "fig, ax = plt.subplots()\n",
    "ax.plot(dis[0][0],gam[0][0],'x',color = 'black')\n",
    "ax.plot([0,2000],[1.0,1.0],color = 'black')\n",
    "ax.set_xlabel(r'Lag Distance $\\bf(h)$, (m)')\n",
    "ax.set_ylabel(r'$\\gamma \\bf(h)$')\n",
    "ax.set_title('Omnidirectional Normal Score Porosity Variogram')\n",
    "ax.set_xlim([0,2000])\n",
    "ax.set_ylim([0,1.1])\n",
    "plt.show()"
   ]
  },
  {
   "cell_type": "markdown",
   "metadata": {},
   "source": [
    "That is a great looking variogram.  Could have a nugget, two nested spherical structures with ultimate range of aobut 1,800 m. We will cover variogram modeling in our next workflow.\n",
    "\n",
    "Let's try directional variograms.  To do this we set the azimuths (2 of them in an array) and the azimuth tolerances (one for each).  Now we have to double up the other parameters."
   ]
  },
  {
   "cell_type": "code",
   "execution_count": 184,
   "metadata": {},
   "outputs": [],
   "source": [
    "dir_parameters = {\n",
    "        'x'      :  df['X'],          # X coordinates, array('f') with bounds (nd), nd is number of data points\n",
    "        'y'      :  df['Y'],          # Y coordinates, array('f') with bounds (nd)\n",
    "        'z'      :  df['Z'],          # Z coordinates, array('f') with bounds (nd)\n",
    "        'bhid'   :  df['Z'],          # bhid for downhole variogram, array('i') with bounds (nd)\n",
    "        'vr'     :  df[\"nporosity\"],  # Variables, array('f') with bounds (nd,nv), nv is number of variables\n",
    "        'tmin'   : -1.0e21,           # trimming limits, float\n",
    "        'tmax'   :  1.0e21,           # trimming limits, float\n",
    "        'nlag'   :  10,               # number of lags, int\n",
    "        'xlag'   :  200,              # lag separation distance, float\n",
    "        'xltol'  :  100,               # lag tolerance, float\n",
    "        'azm'    :  [0,90],           # azimuth, array('f') with bounds (ndir)\n",
    "        'atol'   :  [22.5,22.5],           # azimuth tolerance, array('f') with bounds (ndir)\n",
    "        'bandwh' :  [9999,9999],           # bandwidth 'horizontal', array('f') with bounds (ndir)\n",
    "        'dip'    :  [0,0],              # dip, array('f') with bounds (ndir)\n",
    "        'dtol'   :  [0,0],              # dip tolerance, array('f') with bounds (ndir)\n",
    "        'bandwd' :  [9999,9999],           # bandwidth 'vertical', array('f') with bounds (ndir)\n",
    "        'isill'  :  0,                # standardize sills? (0=no, 1=yes), int\n",
    "        'sills'  :  [1.0],            # variance used to std the sills, array('f') with bounds (nv)\n",
    "        'ivtail' :  [1],              # tail var., array('i') with bounds (nvarg), nvarg is number of variograms\n",
    "        'ivhead' :  [1],              # head var., array('i') with bounds (nvarg)\n",
    "        'ivtype' :  [1],              # variogram type, array('i') with bounds (nvarg)\n",
    "        'maxclp' :  [50000]}          # maximum number of variogram point cloud to use, input int"
   ]
  },
  {
   "cell_type": "markdown",
   "metadata": {},
   "source": [
    "We can check our variogram parameters again."
   ]
  },
  {
   "cell_type": "code",
   "execution_count": 185,
   "metadata": {},
   "outputs": [
    {
     "name": "stdout",
     "output_type": "stream",
     "text": [
      "The variogram parameters pass the test.\n"
     ]
    }
   ],
   "source": [
    "variogram_check = gslib.gslib.check_gamv_par(dir_parameters)\n",
    "if variogram_check == 1:\n",
    "    print(\"The variogram parameters pass the test.\")\n",
    "else:\n",
    "    print(\"The variogram parameters failed the test, check the errors.\")"
   ]
  },
  {
   "cell_type": "markdown",
   "metadata": {},
   "source": [
    "and run the vairogram calculation."
   ]
  },
  {
   "cell_type": "code",
   "execution_count": 186,
   "metadata": {},
   "outputs": [],
   "source": [
    "dir_dis, dir_gam, hm, tm, hv, tv, dir_np, cldi, cldj, cldg, cldh = gslib.gslib.gamv(dir_parameters)"
   ]
  },
  {
   "cell_type": "markdown",
   "metadata": {},
   "source": [
    "We modified the plot to include both directional variograms with colours and legend to tell them apart."
   ]
  },
  {
   "cell_type": "code",
   "execution_count": 192,
   "metadata": {},
   "outputs": [
    {
     "data": {
      "image/png": "[encoded data removed]",
      "text/plain": [
       "<Figure size 432x288 with 1 Axes>"
      ]
     },
     "metadata": {},
     "output_type": "display_data"
    }
   ],
   "source": [
    "fig, ax = plt.subplots()\n",
    "ax.plot(dir_dis[0][0],dir_gam[0][0],'x',color = 'blue',label = '000')\n",
    "ax.plot(dir_dis[0][0],dir_gam[0][1],'x',color = 'green', label = '090')\n",
    "ax.plot([0,2000],[1.0,1.0],color = 'black')\n",
    "ax.set_xlabel(r'Lag Distance $\\bf(h)$, (m)')\n",
    "ax.set_ylabel(r'$\\gamma \\bf(h)$')\n",
    "ax.set_title('Directional Normal Score Porosity Variogram')\n",
    "ax.set_xlim([0,2000])\n",
    "ax.set_ylim([0,1.1])\n",
    "handles, labels = ax.get_legend_handles_labels()\n",
    "ax.legend(handles[::], labels[::])\n",
    "plt.show()"
   ]
  },
  {
   "cell_type": "markdown",
   "metadata": {},
   "source": [
    "#### Comments\n",
    "\n",
    "With this basic workflow it would be possible to calculate variograms in Python for any spatial dataset.  Appreciation to Adrian Martinez Vargas for the useful package, it has assisted with teaching geostatistics to my students.   \n",
    "\n",
    "*Michael*\n",
    "\n",
    "Michael Pyrcz, Ph.D., P.Eng. Associate Professor The Hildebrand Department of Petroleum and Geosystems Engineering, Bureau of Economic Geology, The Jackson School of Geosciences, The University of Texas at Austin\n",
    "\n",
    "On twitter I'm the @GeostatsGuy.\n"
   ]
  },
  {
   "cell_type": "code",
   "execution_count": null,
   "metadata": {},
   "outputs": [],
   "source": []
  }
 ],
 "metadata": {
  "kernelspec": {
   "display_name": "Python 3",
   "language": "python",
   "name": "python3"
  },
  "language_info": {
   "codemirror_mode": {
    "name": "ipython",
    "version": 3
   },
   "file_extension": ".py",
   "mimetype": "text/x-python",
   "name": "python",
   "nbconvert_exporter": "python",
   "pygments_lexer": "ipython3",
   "version": "3.6.5"
  }
 },
 "nbformat": 4,
 "nbformat_minor": 2
}
